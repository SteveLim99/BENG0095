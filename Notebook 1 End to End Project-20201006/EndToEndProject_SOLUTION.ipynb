{
 "cells": [
  {
   "cell_type": "markdown",
   "metadata": {
    "collapsed": true
   },
   "source": [
    "# Notebook 1: End-to-End Machine Learning Project\n",
    "\n",
    "## Introduction\n",
    "\n",
    "In this notebook we will take a deep dive into machine learning, and investigate some of the steps involved in a prediction task - from setting up an appropriate experimental environment and loadint the initial data set, through to performing a regression analysis by applying a variety of machine learning algorithms to the data.\n",
    "\n",
    "We have not yet covered all of the techniques which we will use in this notebook, and indeed we will not cover all of them during the course of this module. However, the purpose of this notebook is to give you an overview of what a machine learning project looks like overall. In future classes you will take a look at the  application of algorithms which we will discuss in the lectures in much more detail.\n",
    "\n",
    "This particular notebook is heavily based on the second chapter of 'Hands-On Machine Learning with Scikit-Learn & Tensorflow' by A. Geron - which is an excellent resource for introducing the practicalities of machine learning."
   ]
  },
  {
   "cell_type": "markdown",
   "metadata": {},
   "source": [
    "## Guidelines\n",
    "\n",
    "- The structure of the code is given to you and you will need to fill in the parts corresponding to each question. \n",
    "- Do not modify/erase other parts of the code if you have not been given specific instructions to do so.\n",
    "- When you are asked to insert code, do so between the areas which begin:\n",
    "  \n",
    "  `##########################################################`\n",
    "  \n",
    "  `# TO_DO`\n",
    "  \n",
    "  `# [your code here]`\n",
    "   \n",
    "   And which end:\n",
    "   \n",
    "  `# /TO_DO\n",
    "   ##########################################################`\n",
    "\n",
    "\n",
    "- When you are asked to comment on the results you should give clear and comprehensible explanations. Write the comments in a 'Code Cell' with a sign `#` at the beginning of each row, and in the areas which begin:\n",
    "\n",
    "  `# [INSERT YOUR ANSWER HERE]`"
   ]
  },
  {
   "cell_type": "markdown",
   "metadata": {},
   "source": [
    "## Imports\n",
    "\n",
    "Please do not change the cell below, you will see a number of imports. All these packages are relevant for the assignment and it is important that you get used to them. You can find more information about them in the respective documentations. The most relevant for this notebook is Scikit-Learn, which is a popular machine learning library, which features various algorithms on classification, regression and clustering. Most algorithms introduced in this course will be implemented in Scikit-Learn:\n",
    "\n",
    "https://scikit-learn.org/stable/"
   ]
  },
  {
   "cell_type": "code",
   "execution_count": 15,
   "metadata": {},
   "outputs": [],
   "source": [
    "import numpy as np\n",
    "import pandas as pd\n",
    "\n",
    "from sklearn.preprocessing import StandardScaler\n",
    "from sklearn.impute import SimpleImputer\n",
    "from sklearn.model_selection import train_test_split\n",
    "from sklearn.metrics import mean_absolute_error, mean_squared_error\n",
    "from sklearn.datasets import load_boston\n",
    "\n",
    "from sklearn.linear_model import LinearRegression\n",
    "from sklearn.neighbors import KNeighborsRegressor\n",
    "from sklearn.ensemble import GradientBoostingRegressor\n",
    "\n",
    "import matplotlib.pyplot as plt"
   ]
  },
  {
   "cell_type": "markdown",
   "metadata": {},
   "source": [
    "## Load Data\n",
    "For the puposes of illustration in this notebook we will use a modified version of the Boston housing price data set. This version contains 506 samples, each of which consists of 11 features and 1 label of housing price values. The features are:\n",
    "\n",
    "1. CRIM: per capita crime rate by town.\n",
    "2. ZN: proportion of residential land zoned for lots over 25,000 sq.ft.\n",
    "3. INDUS: proportion of non-retail business acres per town.\n",
    "4. CHAS: Charles River dummy variable (= 1 if tract bounds river; 0 otherwise).\n",
    "5. NOX: nitrogen oxides concentration (parts per 10 million).\n",
    "6. RM: average number of rooms per dwelling.\n",
    "7. AGE: proportion of owner-occupied units built prior to 1940.\n",
    "8. DIS: weighted mean of distances to five Boston employment centres.\n",
    "9. RAD: index of accessibility to radial highways.\n",
    "10. TAX: full-value property-tax rate per $10,000.\n",
    "11. PTRATIO: pupil-teacher ratio by town."
   ]
  },
  {
   "cell_type": "markdown",
   "metadata": {},
   "source": [
    "First we set the path for the dataset repository, you should enter your working directory here:"
   ]
  },
  {
   "cell_type": "code",
   "execution_count": 16,
   "metadata": {},
   "outputs": [],
   "source": [
    "dirName = \"/mnt/c/Users/USER/desktop/year 3/Data Mining and Analytics/Programming Assignments/Notebook 1 End to End Project-20201006/\"#ENTER YOUR WORKING DRIECTORY HERE#\n",
    "dirName_feats = dirName + 'housing_features.csv'\n",
    "dirName_targs = dirName + 'housing_target.csv'\n",
    "dirName_names = dirName + 'housing_names.csv'"
   ]
  },
  {
   "cell_type": "markdown",
   "metadata": {},
   "source": [
    "We will now load the data into a pandas dataframe using `pd.DataFrame`:"
   ]
  },
  {
   "cell_type": "code",
   "execution_count": 17,
   "metadata": {},
   "outputs": [],
   "source": [
    "df_housing = pd.read_csv(dirName_feats)"
   ]
  },
  {
   "cell_type": "markdown",
   "metadata": {},
   "source": [
    "A brief numerical description of dataset can be viewed by the following function:"
   ]
  },
  {
   "cell_type": "code",
   "execution_count": 18,
   "metadata": {},
   "outputs": [
    {
     "output_type": "execute_result",
     "data": {
      "text/plain": [
       "             CRIM          ZN       INDUS        CHAS         NOX          RM  \\\n",
       "count  506.000000  506.000000  506.000000  506.000000  506.000000  506.000000   \n",
       "mean     3.613524   11.363636   11.136779    0.069170    0.554695    6.284634   \n",
       "std      8.601545   23.322453    6.860353    0.253994    0.115878    0.702617   \n",
       "min      0.006320    0.000000    0.460000    0.000000    0.385000    3.561000   \n",
       "25%      0.082045    0.000000    5.190000    0.000000    0.449000    5.885500   \n",
       "50%      0.256510    0.000000    9.690000    0.000000    0.538000    6.208500   \n",
       "75%      3.677082   12.500000   18.100000    0.000000    0.624000    6.623500   \n",
       "max     88.976200  100.000000   27.740000    1.000000    0.871000    8.780000   \n",
       "\n",
       "              AGE         DIS         RAD         TAX     PTRATIO  \n",
       "count  506.000000  506.000000  506.000000  506.000000  506.000000  \n",
       "mean    68.574901    3.795043    9.549407  408.237154   18.455534  \n",
       "std     28.148861    2.105710    8.707259  168.537116    2.164946  \n",
       "min      2.900000    1.129600    1.000000  187.000000   12.600000  \n",
       "25%     45.025000    2.100175    4.000000  279.000000   17.400000  \n",
       "50%     77.500000    3.207450    5.000000  330.000000   19.050000  \n",
       "75%     94.075000    5.188425   24.000000  666.000000   20.200000  \n",
       "max    100.000000   12.126500   24.000000  711.000000   22.000000  "
      ],
      "text/html": "<div>\n<style scoped>\n    .dataframe tbody tr th:only-of-type {\n        vertical-align: middle;\n    }\n\n    .dataframe tbody tr th {\n        vertical-align: top;\n    }\n\n    .dataframe thead th {\n        text-align: right;\n    }\n</style>\n<table border=\"1\" class=\"dataframe\">\n  <thead>\n    <tr style=\"text-align: right;\">\n      <th></th>\n      <th>CRIM</th>\n      <th>ZN</th>\n      <th>INDUS</th>\n      <th>CHAS</th>\n      <th>NOX</th>\n      <th>RM</th>\n      <th>AGE</th>\n      <th>DIS</th>\n      <th>RAD</th>\n      <th>TAX</th>\n      <th>PTRATIO</th>\n    </tr>\n  </thead>\n  <tbody>\n    <tr>\n      <th>count</th>\n      <td>506.000000</td>\n      <td>506.000000</td>\n      <td>506.000000</td>\n      <td>506.000000</td>\n      <td>506.000000</td>\n      <td>506.000000</td>\n      <td>506.000000</td>\n      <td>506.000000</td>\n      <td>506.000000</td>\n      <td>506.000000</td>\n      <td>506.000000</td>\n    </tr>\n    <tr>\n      <th>mean</th>\n      <td>3.613524</td>\n      <td>11.363636</td>\n      <td>11.136779</td>\n      <td>0.069170</td>\n      <td>0.554695</td>\n      <td>6.284634</td>\n      <td>68.574901</td>\n      <td>3.795043</td>\n      <td>9.549407</td>\n      <td>408.237154</td>\n      <td>18.455534</td>\n    </tr>\n    <tr>\n      <th>std</th>\n      <td>8.601545</td>\n      <td>23.322453</td>\n      <td>6.860353</td>\n      <td>0.253994</td>\n      <td>0.115878</td>\n      <td>0.702617</td>\n      <td>28.148861</td>\n      <td>2.105710</td>\n      <td>8.707259</td>\n      <td>168.537116</td>\n      <td>2.164946</td>\n    </tr>\n    <tr>\n      <th>min</th>\n      <td>0.006320</td>\n      <td>0.000000</td>\n      <td>0.460000</td>\n      <td>0.000000</td>\n      <td>0.385000</td>\n      <td>3.561000</td>\n      <td>2.900000</td>\n      <td>1.129600</td>\n      <td>1.000000</td>\n      <td>187.000000</td>\n      <td>12.600000</td>\n    </tr>\n    <tr>\n      <th>25%</th>\n      <td>0.082045</td>\n      <td>0.000000</td>\n      <td>5.190000</td>\n      <td>0.000000</td>\n      <td>0.449000</td>\n      <td>5.885500</td>\n      <td>45.025000</td>\n      <td>2.100175</td>\n      <td>4.000000</td>\n      <td>279.000000</td>\n      <td>17.400000</td>\n    </tr>\n    <tr>\n      <th>50%</th>\n      <td>0.256510</td>\n      <td>0.000000</td>\n      <td>9.690000</td>\n      <td>0.000000</td>\n      <td>0.538000</td>\n      <td>6.208500</td>\n      <td>77.500000</td>\n      <td>3.207450</td>\n      <td>5.000000</td>\n      <td>330.000000</td>\n      <td>19.050000</td>\n    </tr>\n    <tr>\n      <th>75%</th>\n      <td>3.677082</td>\n      <td>12.500000</td>\n      <td>18.100000</td>\n      <td>0.000000</td>\n      <td>0.624000</td>\n      <td>6.623500</td>\n      <td>94.075000</td>\n      <td>5.188425</td>\n      <td>24.000000</td>\n      <td>666.000000</td>\n      <td>20.200000</td>\n    </tr>\n    <tr>\n      <th>max</th>\n      <td>88.976200</td>\n      <td>100.000000</td>\n      <td>27.740000</td>\n      <td>1.000000</td>\n      <td>0.871000</td>\n      <td>8.780000</td>\n      <td>100.000000</td>\n      <td>12.126500</td>\n      <td>24.000000</td>\n      <td>711.000000</td>\n      <td>22.000000</td>\n    </tr>\n  </tbody>\n</table>\n</div>"
     },
     "metadata": {},
     "execution_count": 18
    }
   ],
   "source": [
    "df_housing.describe()"
   ]
  },
  {
   "cell_type": "markdown",
   "metadata": {},
   "source": [
    "And we can take a look at the top 5 rows of the data as follows:"
   ]
  },
  {
   "cell_type": "code",
   "execution_count": 19,
   "metadata": {},
   "outputs": [
    {
     "output_type": "execute_result",
     "data": {
      "text/plain": [
       "      CRIM    ZN  INDUS  CHAS    NOX     RM   AGE     DIS  RAD    TAX  PTRATIO\n",
       "0  0.00632  18.0   2.31   0.0  0.538  6.575  65.2  4.0900  1.0  296.0     15.3\n",
       "1  0.02731   0.0   7.07   0.0  0.469  6.421  78.9  4.9671  2.0  242.0     17.8\n",
       "2  0.02729   0.0   7.07   0.0  0.469  7.185  61.1  4.9671  2.0  242.0     17.8\n",
       "3  0.03237   0.0   2.18   0.0  0.458  6.998  45.8  6.0622  3.0  222.0     18.7\n",
       "4  0.06905   0.0   2.18   0.0  0.458  7.147  54.2  6.0622  3.0  222.0     18.7"
      ],
      "text/html": "<div>\n<style scoped>\n    .dataframe tbody tr th:only-of-type {\n        vertical-align: middle;\n    }\n\n    .dataframe tbody tr th {\n        vertical-align: top;\n    }\n\n    .dataframe thead th {\n        text-align: right;\n    }\n</style>\n<table border=\"1\" class=\"dataframe\">\n  <thead>\n    <tr style=\"text-align: right;\">\n      <th></th>\n      <th>CRIM</th>\n      <th>ZN</th>\n      <th>INDUS</th>\n      <th>CHAS</th>\n      <th>NOX</th>\n      <th>RM</th>\n      <th>AGE</th>\n      <th>DIS</th>\n      <th>RAD</th>\n      <th>TAX</th>\n      <th>PTRATIO</th>\n    </tr>\n  </thead>\n  <tbody>\n    <tr>\n      <th>0</th>\n      <td>0.00632</td>\n      <td>18.0</td>\n      <td>2.31</td>\n      <td>0.0</td>\n      <td>0.538</td>\n      <td>6.575</td>\n      <td>65.2</td>\n      <td>4.0900</td>\n      <td>1.0</td>\n      <td>296.0</td>\n      <td>15.3</td>\n    </tr>\n    <tr>\n      <th>1</th>\n      <td>0.02731</td>\n      <td>0.0</td>\n      <td>7.07</td>\n      <td>0.0</td>\n      <td>0.469</td>\n      <td>6.421</td>\n      <td>78.9</td>\n      <td>4.9671</td>\n      <td>2.0</td>\n      <td>242.0</td>\n      <td>17.8</td>\n    </tr>\n    <tr>\n      <th>2</th>\n      <td>0.02729</td>\n      <td>0.0</td>\n      <td>7.07</td>\n      <td>0.0</td>\n      <td>0.469</td>\n      <td>7.185</td>\n      <td>61.1</td>\n      <td>4.9671</td>\n      <td>2.0</td>\n      <td>242.0</td>\n      <td>17.8</td>\n    </tr>\n    <tr>\n      <th>3</th>\n      <td>0.03237</td>\n      <td>0.0</td>\n      <td>2.18</td>\n      <td>0.0</td>\n      <td>0.458</td>\n      <td>6.998</td>\n      <td>45.8</td>\n      <td>6.0622</td>\n      <td>3.0</td>\n      <td>222.0</td>\n      <td>18.7</td>\n    </tr>\n    <tr>\n      <th>4</th>\n      <td>0.06905</td>\n      <td>0.0</td>\n      <td>2.18</td>\n      <td>0.0</td>\n      <td>0.458</td>\n      <td>7.147</td>\n      <td>54.2</td>\n      <td>6.0622</td>\n      <td>3.0</td>\n      <td>222.0</td>\n      <td>18.7</td>\n    </tr>\n  </tbody>\n</table>\n</div>"
     },
     "metadata": {},
     "execution_count": 19
    }
   ],
   "source": [
    "df_housing.head()"
   ]
  },
  {
   "cell_type": "markdown",
   "metadata": {},
   "source": [
    "Finally, let's create separate holders for the input and output data:"
   ]
  },
  {
   "cell_type": "code",
   "execution_count": 20,
   "metadata": {},
   "outputs": [],
   "source": [
    "X=np.genfromtxt(dirName_feats,delimiter=',',skip_header=1)\n",
    "y=np.genfromtxt(dirName_targs,delimiter=',',skip_header=1)\n",
    "names=np.genfromtxt(dirName_names, dtype='str',skip_header=1)"
   ]
  },
  {
   "cell_type": "markdown",
   "metadata": {},
   "source": [
    "## Dataset Preprocessing\n",
    "\n",
    "Now we will take a look at different features. Please note that these steps are not required in predicting Boston housing prices, but they are here just to give you some insights into the various types of data."
   ]
  },
  {
   "cell_type": "markdown",
   "metadata": {},
   "source": [
    "### _Missing Data Items_\n",
    "\n",
    "First let's synthetically randomly replace some data entries with `nan`:"
   ]
  },
  {
   "cell_type": "code",
   "execution_count": 21,
   "metadata": {},
   "outputs": [],
   "source": [
    "np.random.seed(42)\n",
    "\n",
    "X_new = X.copy()\n",
    "mask = np.random.randint(0, 2, size=X.shape).astype(np.bool)\n",
    "X_new[mask] = np.nan"
   ]
  },
  {
   "cell_type": "markdown",
   "metadata": {},
   "source": [
    "Now try to replacing the missing values with the mean value of the corresponding column:"
   ]
  },
  {
   "cell_type": "code",
   "execution_count": 22,
   "metadata": {},
   "outputs": [],
   "source": [
    "imp = SimpleImputer(strategy='mean')\n",
    "X_replace_with_median = imp.fit_transform(X_new)"
   ]
  },
  {
   "cell_type": "markdown",
   "metadata": {},
   "source": [
    "__Task:__  \n",
    "Now please try other strategies (for example, replacing missing values with the median or the most frequent value).\n",
    "\n",
    "*Hint: check the parameter 'strategy' in the `sklearn.impute.SimpleImputer` module. You may also find `help(SimpleImputer)` helpful.*"
   ]
  },
  {
   "cell_type": "code",
   "execution_count": 23,
   "metadata": {},
   "outputs": [],
   "source": [
    "########################################################\n",
    "# TO_DO\n",
    "#[your code here]\n",
    "\n",
    "imp = SimpleImputer(strategy='median')\n",
    "X_replace_with_median = imp.fit_transform(X_new)\n",
    "\n",
    "imp = SimpleImputer(strategy='most_frequent')\n",
    "X_replace_with_freq = imp.fit_transform(X_new)\n",
    "\n",
    "# /TO_DO\n",
    "########################################################"
   ]
  },
  {
   "cell_type": "markdown",
   "metadata": {},
   "source": [
    "### _Training and Test Data_\n",
    "\n",
    "The dataset is generally split into two parts: the training set and the test set. We use the training set for training a model, then apply the trained model to the test set, in order to evaluate the performance of our model.\n",
    "\n",
    "First let's split the data (randomly):"
   ]
  },
  {
   "cell_type": "code",
   "execution_count": 24,
   "metadata": {},
   "outputs": [],
   "source": [
    "X_train, X_test, y_train, y_test = train_test_split(X, y, test_size=0.2, random_state=42)"
   ]
  },
  {
   "cell_type": "markdown",
   "metadata": {},
   "source": [
    "### _Standardisation of the Data Set_\n",
    "\n",
    "For many machiner learning algorithms very different models can be learned depedning on the scale of the input data. Quite often this can give misleading results, so standardisation of a data set is a very common technique which is applied prior to model training. The standardisation process removes the mean and scales each feature column to unit variance:"
   ]
  },
  {
   "cell_type": "code",
   "execution_count": 25,
   "metadata": {},
   "outputs": [],
   "source": [
    "scaler = StandardScaler()\n",
    "X_train = scaler.fit_transform(X_train)\n",
    "X_test = scaler.transform(X_test)"
   ]
  },
  {
   "cell_type": "markdown",
   "metadata": {},
   "source": [
    "## Regression\n",
    "\n",
    "Now that we have transformed our data into a more useable format, we can begin the regression task.\n",
    "\n",
    "This section solves the regression problem with different methods. We also compute mean squared error (MSE) and mean absolute error (MAE) for future use.\n",
    "\n",
    "First we create a naive baseline for compariosn, and predict the housing prices using the average values of the output data of the training samples:"
   ]
  },
  {
   "cell_type": "code",
   "execution_count": 26,
   "metadata": {},
   "outputs": [],
   "source": [
    "y_avg = np.ones(len(y_test)) * np.mean(y_train)\n",
    "\n",
    "mse_avg = mean_squared_error(y_test, y_avg)\n",
    "mae_avg = mean_absolute_error(y_test, y_avg)"
   ]
  },
  {
   "cell_type": "markdown",
   "metadata": {},
   "source": [
    "### _Linear Regression_\n",
    "\n",
    "Using the Scikit-Learn `LinearRegression` function we perform linear regression, then we compute the MSE's and MAE's:"
   ]
  },
  {
   "cell_type": "code",
   "execution_count": 27,
   "metadata": {},
   "outputs": [],
   "source": [
    "lr = LinearRegression()\n",
    "lr.fit(X_train, y_train)\n",
    "\n",
    "y_lr = lr.predict(X_test)\n",
    "\n",
    "mse_lr = mean_squared_error(y_test, y_lr)\n",
    "mae_lr = mean_absolute_error(y_test, y_lr)"
   ]
  },
  {
   "cell_type": "markdown",
   "metadata": {},
   "source": [
    "__Task:__  \n",
    "Now repeat this analysis, but this time using only one feature at a time as input data. Compute the MSE's and MAE's:"
   ]
  },
  {
   "cell_type": "code",
   "execution_count": 28,
   "metadata": {},
   "outputs": [
    {
     "output_type": "execute_result",
     "data": {
      "text/plain": [
       "          CRIM         ZN      INDUS       CHAS        NOX         RM  \\\n",
       "MAE   5.631052   5.309346   5.249579   6.219632   5.695365   4.478336   \n",
       "MSE  61.694137  54.347454  53.063745  74.734405  58.285326  46.144775   \n",
       "\n",
       "           AGE        DIS        RAD        TAX    PTRATIO  \n",
       "MAE   5.335749   5.967846   5.824226   5.318716   5.212480  \n",
       "MSE  55.732582  67.956919  65.651743  55.638030  49.976378  "
      ],
      "text/html": "<div>\n<style scoped>\n    .dataframe tbody tr th:only-of-type {\n        vertical-align: middle;\n    }\n\n    .dataframe tbody tr th {\n        vertical-align: top;\n    }\n\n    .dataframe thead th {\n        text-align: right;\n    }\n</style>\n<table border=\"1\" class=\"dataframe\">\n  <thead>\n    <tr style=\"text-align: right;\">\n      <th></th>\n      <th>CRIM</th>\n      <th>ZN</th>\n      <th>INDUS</th>\n      <th>CHAS</th>\n      <th>NOX</th>\n      <th>RM</th>\n      <th>AGE</th>\n      <th>DIS</th>\n      <th>RAD</th>\n      <th>TAX</th>\n      <th>PTRATIO</th>\n    </tr>\n  </thead>\n  <tbody>\n    <tr>\n      <th>MAE</th>\n      <td>5.631052</td>\n      <td>5.309346</td>\n      <td>5.249579</td>\n      <td>6.219632</td>\n      <td>5.695365</td>\n      <td>4.478336</td>\n      <td>5.335749</td>\n      <td>5.967846</td>\n      <td>5.824226</td>\n      <td>5.318716</td>\n      <td>5.212480</td>\n    </tr>\n    <tr>\n      <th>MSE</th>\n      <td>61.694137</td>\n      <td>54.347454</td>\n      <td>53.063745</td>\n      <td>74.734405</td>\n      <td>58.285326</td>\n      <td>46.144775</td>\n      <td>55.732582</td>\n      <td>67.956919</td>\n      <td>65.651743</td>\n      <td>55.638030</td>\n      <td>49.976378</td>\n    </tr>\n  </tbody>\n</table>\n</div>"
     },
     "metadata": {},
     "execution_count": 28
    }
   ],
   "source": [
    "n_sample, n_feature = X_train.shape\n",
    "\n",
    "mse_lr_per_feature = []\n",
    "mae_lr_per_feature = []\n",
    "\n",
    "########################################################\n",
    "# TO_DO\n",
    "#[your code here]\n",
    "\n",
    "for counter in range(X_train.shape[1]):\n",
    "    lr = LinearRegression()\n",
    "    lr.fit(np.reshape(X_train[:, counter], [X_train.shape[0], 1]), y_train)   \n",
    "    y_lr = lr.predict(np.reshape(X_test[:, counter], [X_test.shape[0], 1]))\n",
    "    \n",
    "    mse_lr_per_feature.append(mean_squared_error(y_test, y_lr))\n",
    "    mae_lr_per_feature.append(mean_absolute_error(y_test, y_lr))\n",
    "\n",
    "errors = pd.DataFrame.from_dict({'MAE': mae_lr_per_feature,\n",
    "                                 'MSE': mse_lr_per_feature},\n",
    "                                 orient='index', columns=names)\n",
    "\n",
    "# /TO_DO\n",
    "########################################################\n",
    "\n",
    "errors"
   ]
  },
  {
   "cell_type": "markdown",
   "metadata": {},
   "source": [
    "### _k Nearest Neighbor (kNN) Regression_\n",
    "\n",
    "Using the Scikit-Learn `KNeighborsRegressor` function we perform regression, setting the `n_neigbours` hyperparamter to 3:"
   ]
  },
  {
   "cell_type": "code",
   "execution_count": 29,
   "metadata": {},
   "outputs": [],
   "source": [
    "n_neighbors = 3\n",
    "neigh = KNeighborsRegressor(n_neighbors=n_neighbors)\n",
    "neigh.fit(X_train, y_train)\n",
    "\n",
    "y_neigh = neigh.predict(X_test)\n",
    "\n",
    "mse_neigh = mean_squared_error(y_test, y_neigh)\n",
    "mae_neigh = mean_absolute_error(y_test, y_neigh)"
   ]
  },
  {
   "cell_type": "markdown",
   "metadata": {},
   "source": [
    "__Task:__  \n",
    "Now repeat the analysis, but this time use different settings of the number of nearest neighbours. Compute the MSE's and MAE's."
   ]
  },
  {
   "cell_type": "code",
   "execution_count": 30,
   "metadata": {},
   "outputs": [
    {
     "output_type": "execute_result",
     "data": {
      "text/plain": [
       "             4          5          6\n",
       "MAE   3.041912   3.057647   3.144608\n",
       "MSE  27.820190  29.404220  30.276936"
      ],
      "text/html": "<div>\n<style scoped>\n    .dataframe tbody tr th:only-of-type {\n        vertical-align: middle;\n    }\n\n    .dataframe tbody tr th {\n        vertical-align: top;\n    }\n\n    .dataframe thead th {\n        text-align: right;\n    }\n</style>\n<table border=\"1\" class=\"dataframe\">\n  <thead>\n    <tr style=\"text-align: right;\">\n      <th></th>\n      <th>4</th>\n      <th>5</th>\n      <th>6</th>\n    </tr>\n  </thead>\n  <tbody>\n    <tr>\n      <th>MAE</th>\n      <td>3.041912</td>\n      <td>3.057647</td>\n      <td>3.144608</td>\n    </tr>\n    <tr>\n      <th>MSE</th>\n      <td>27.820190</td>\n      <td>29.404220</td>\n      <td>30.276936</td>\n    </tr>\n  </tbody>\n</table>\n</div>"
     },
     "metadata": {},
     "execution_count": 30
    }
   ],
   "source": [
    "mse_neigh_other_num = []\n",
    "mae_neigh_other_num = []\n",
    "\n",
    "########################################################\n",
    "# TO_DO\n",
    "#[your code here]\n",
    "\n",
    "for n_neighbors in range(4, 7):\n",
    "    neigh = KNeighborsRegressor(n_neighbors=n_neighbors)\n",
    "    neigh.fit(X_train, y_train)\n",
    "    \n",
    "    y_neigh = neigh.predict(X_test)\n",
    "    \n",
    "    mse_neigh_other_num.append(mean_squared_error(y_test, y_neigh))\n",
    "    mae_neigh_other_num.append(mean_absolute_error(y_test, y_neigh))\n",
    "\n",
    "\n",
    "errors = pd.DataFrame.from_dict({'MAE': mae_neigh_other_num,\n",
    "                                 'MSE': mse_neigh_other_num},\n",
    "                                 orient='index', columns=range(4, 7))\n",
    "\n",
    "# /TO_DO\n",
    "########################################################\n",
    "\n",
    "errors"
   ]
  },
  {
   "cell_type": "markdown",
   "metadata": {},
   "source": [
    "### _Gradient Boosting Regression_\n",
    "\n",
    "Finally, using the Scikit-learn `GradientBoostingRegressor` function we perform regression. A number of hyperparameters can be specified in the `sklearn.ensemble.GradientBoostingRegressor` module. Here we set `loss = 'quantile'` with `alpha = 0.95`:"
   ]
  },
  {
   "cell_type": "code",
   "execution_count": 31,
   "metadata": {},
   "outputs": [],
   "source": [
    "gb = GradientBoostingRegressor(loss='quantile', alpha=0.95,\n",
    "                                n_estimators=250, max_depth=3,\n",
    "                                learning_rate=.1, min_samples_leaf=9,\n",
    "                                min_samples_split=9)\n",
    "gb.fit(X_train, y_train)\n",
    "\n",
    "y_gb = gb.predict(X_test)\n",
    "\n",
    "mse_gb = mean_squared_error(y_test, y_gb)\n",
    "mae_gb = mean_absolute_error(y_test, y_gb)"
   ]
  },
  {
   "cell_type": "markdown",
   "metadata": {},
   "source": [
    "__Task:__  \n",
    "Now repeat the analysis, try different types of loss functions as well as other differemt types of hyperparameter settings. Compare the performances with MSEs and MAEs.\n",
    "\n",
    "*Hint: you may find the documentation helpful. To view the documentation, use the following command `help(GradientBoostingRegressor)`.*"
   ]
  },
  {
   "cell_type": "code",
   "execution_count": 32,
   "metadata": {},
   "outputs": [
    {
     "output_type": "execute_result",
     "data": {
      "text/plain": [
       "               0.70      0.75       0.80       0.85       0.90\n",
       "ls         8.013753  8.013753   8.013753   8.013753   8.013753\n",
       "quantile  11.232744  9.778639  11.255222  13.589614  21.563117"
      ],
      "text/html": "<div>\n<style scoped>\n    .dataframe tbody tr th:only-of-type {\n        vertical-align: middle;\n    }\n\n    .dataframe tbody tr th {\n        vertical-align: top;\n    }\n\n    .dataframe thead th {\n        text-align: right;\n    }\n</style>\n<table border=\"1\" class=\"dataframe\">\n  <thead>\n    <tr style=\"text-align: right;\">\n      <th></th>\n      <th>0.70</th>\n      <th>0.75</th>\n      <th>0.80</th>\n      <th>0.85</th>\n      <th>0.90</th>\n    </tr>\n  </thead>\n  <tbody>\n    <tr>\n      <th>ls</th>\n      <td>8.013753</td>\n      <td>8.013753</td>\n      <td>8.013753</td>\n      <td>8.013753</td>\n      <td>8.013753</td>\n    </tr>\n    <tr>\n      <th>quantile</th>\n      <td>11.232744</td>\n      <td>9.778639</td>\n      <td>11.255222</td>\n      <td>13.589614</td>\n      <td>21.563117</td>\n    </tr>\n  </tbody>\n</table>\n</div>"
     },
     "metadata": {},
     "execution_count": 32
    }
   ],
   "source": [
    "losses = ['ls', 'quantile']\n",
    "alphas = np.linspace(0.7, 0.9, 5)\n",
    "\n",
    "mse_gb_other_param = np.empty([len(losses), len(alphas)])\n",
    "mae_gb_other_param = np.empty([len(losses), len(alphas)])\n",
    "\n",
    "########################################################\n",
    "# TO_DO\n",
    "#[your code here]\n",
    "\n",
    "for loss_counter, loss in enumerate(losses):\n",
    "    for alpha_counter, alpha in enumerate(alphas):\n",
    "        gb = GradientBoostingRegressor(loss=loss, alpha=alpha,\n",
    "                                        n_estimators=250, max_depth=3,\n",
    "                                        learning_rate=.1, min_samples_leaf=9,\n",
    "                                        min_samples_split=9)\n",
    "        gb.fit(X_train, y_train)\n",
    "        y_gb = gb.predict(X_test)\n",
    "        \n",
    "        mse_gb_other_param[loss_counter, alpha_counter] = mean_squared_error(y_test, y_gb)\n",
    "        mae_gb_other_param[loss_counter, alpha_counter] = mean_absolute_error(y_test, y_gb)\n",
    "        \n",
    "mse_errors = pd.DataFrame(data=mse_gb_other_param,index=losses, columns=alphas)        \n",
    "mae_errors = pd.DataFrame(data=mae_gb_other_param,index=losses, columns=alphas)        \n",
    "\n",
    "# /TO_DO\n",
    "########################################################\n",
    "\n",
    "mse_errors"
   ]
  },
  {
   "cell_type": "code",
   "execution_count": 33,
   "metadata": {},
   "outputs": [
    {
     "output_type": "execute_result",
     "data": {
      "text/plain": [
       "              0.70      0.75     0.80      0.85      0.90\n",
       "ls        2.001390  2.001390  2.00139  2.001390  2.001390\n",
       "quantile  2.262163  2.209208  2.48334  2.606502  3.385993"
      ],
      "text/html": "<div>\n<style scoped>\n    .dataframe tbody tr th:only-of-type {\n        vertical-align: middle;\n    }\n\n    .dataframe tbody tr th {\n        vertical-align: top;\n    }\n\n    .dataframe thead th {\n        text-align: right;\n    }\n</style>\n<table border=\"1\" class=\"dataframe\">\n  <thead>\n    <tr style=\"text-align: right;\">\n      <th></th>\n      <th>0.70</th>\n      <th>0.75</th>\n      <th>0.80</th>\n      <th>0.85</th>\n      <th>0.90</th>\n    </tr>\n  </thead>\n  <tbody>\n    <tr>\n      <th>ls</th>\n      <td>2.001390</td>\n      <td>2.001390</td>\n      <td>2.00139</td>\n      <td>2.001390</td>\n      <td>2.001390</td>\n    </tr>\n    <tr>\n      <th>quantile</th>\n      <td>2.262163</td>\n      <td>2.209208</td>\n      <td>2.48334</td>\n      <td>2.606502</td>\n      <td>3.385993</td>\n    </tr>\n  </tbody>\n</table>\n</div>"
     },
     "metadata": {},
     "execution_count": 33
    }
   ],
   "source": [
    "mae_errors"
   ]
  },
  {
   "cell_type": "markdown",
   "metadata": {},
   "source": [
    "### _Compare Performances_\n",
    "\n",
    "This section compares the predictions using different algorithms. We first create some scatter plots to visualise the differences between actual values and the predicted values. "
   ]
  },
  {
   "cell_type": "code",
   "execution_count": 34,
   "metadata": {},
   "outputs": [
    {
     "output_type": "display_data",
     "data": {
      "text/plain": "<Figure size 432x288 with 4 Axes>",
      "image/svg+xml": "<?xml version=\"1.0\" encoding=\"utf-8\" standalone=\"no\"?>\n<!DOCTYPE svg PUBLIC \"-//W3C//DTD SVG 1.1//EN\"\n  \"http://www.w3.org/Graphics/SVG/1.1/DTD/svg11.dtd\">\n<!-- Created with matplotlib (https://matplotlib.org/) -->\n<svg height=\"263.63625pt\" version=\"1.1\" viewBox=\"0 0 369.068226 263.63625\" width=\"369.068226pt\" xmlns=\"http://www.w3.org/2000/svg\" xmlns:xlink=\"http://www.w3.org/1999/xlink\">\n <metadata>\n  <rdf:RDF xmlns:cc=\"http://creativecommons.org/ns#\" xmlns:dc=\"http://purl.org/dc/elements/1.1/\" xmlns:rdf=\"http://www.w3.org/1999/02/22-rdf-syntax-ns#\">\n   <cc:Work>\n    <dc:type rdf:resource=\"http://purl.org/dc/dcmitype/StillImage\"/>\n    <dc:date>2020-10-07T19:11:30.626488</dc:date>\n    <dc:format>image/svg+xml</dc:format>\n    <dc:creator>\n     <cc:Agent>\n      <dc:title>Matplotlib v3.3.2, https://matplotlib.org/</dc:title>\n     </cc:Agent>\n    </dc:creator>\n   </cc:Work>\n  </rdf:RDF>\n </metadata>\n <defs>\n  <style type=\"text/css\">*{stroke-linecap:butt;stroke-linejoin:round;}</style>\n </defs>\n <g id=\"figure_1\">\n  <g id=\"patch_1\">\n   <path d=\"M -0 263.63625 \nL 369.068226 263.63625 \nL 369.068226 0 \nL -0 0 \nz\n\" style=\"fill:none;\"/>\n  </g>\n  <g id=\"axes_1\">\n   <g id=\"patch_2\">\n    <path d=\"M 26.925 121.154489 \nL 179.106818 121.154489 \nL 179.106818 22.318125 \nL 26.925 22.318125 \nz\n\" style=\"fill:#ffffff;\"/>\n   </g>\n   <g id=\"PathCollection_1\">\n    <defs>\n     <path d=\"M 0 3 \nC 0.795609 3 1.55874 2.683901 2.12132 2.12132 \nC 2.683901 1.55874 3 0.795609 3 0 \nC 3 -0.795609 2.683901 -1.55874 2.12132 -2.12132 \nC 1.55874 -2.683901 0.795609 -3 0 -3 \nC -0.795609 -3 -1.55874 -2.683901 -2.12132 -2.12132 \nC -2.683901 -1.55874 -3 -0.795609 -3 0 \nC -3 0.795609 -2.683901 1.55874 -2.12132 2.12132 \nC -1.55874 2.683901 -0.795609 3 0 3 \nz\n\" id=\"md1f90519ab\" style=\"stroke:#1f77b4;\"/>\n    </defs>\n    <g clip-path=\"url(#p1373b322d9)\">\n     <use style=\"fill:#1f77b4;stroke:#1f77b4;\" x=\"78.873187\" xlink:href=\"#md1f90519ab\" y=\"79.523414\"/>\n     <use style=\"fill:#1f77b4;stroke:#1f77b4;\" x=\"78.873187\" xlink:href=\"#md1f90519ab\" y=\"61.952505\"/>\n     <use style=\"fill:#1f77b4;stroke:#1f77b4;\" x=\"78.873187\" xlink:href=\"#md1f90519ab\" y=\"99.490356\"/>\n     <use style=\"fill:#1f77b4;stroke:#1f77b4;\" x=\"78.873187\" xlink:href=\"#md1f90519ab\" y=\"81.12077\"/>\n     <use style=\"fill:#1f77b4;stroke:#1f77b4;\" x=\"78.873187\" xlink:href=\"#md1f90519ab\" y=\"94.498621\"/>\n     <use style=\"fill:#1f77b4;stroke:#1f77b4;\" x=\"78.873187\" xlink:href=\"#md1f90519ab\" y=\"86.711513\"/>\n     <use style=\"fill:#1f77b4;stroke:#1f77b4;\" x=\"78.873187\" xlink:href=\"#md1f90519ab\" y=\"91.104241\"/>\n     <use style=\"fill:#1f77b4;stroke:#1f77b4;\" x=\"78.873187\" xlink:href=\"#md1f90519ab\" y=\"98.691679\"/>\n     <use style=\"fill:#1f77b4;stroke:#1f77b4;\" x=\"78.873187\" xlink:href=\"#md1f90519ab\" y=\"87.510191\"/>\n     <use style=\"fill:#1f77b4;stroke:#1f77b4;\" x=\"78.873187\" xlink:href=\"#md1f90519ab\" y=\"93.100935\"/>\n     <use style=\"fill:#1f77b4;stroke:#1f77b4;\" x=\"78.873187\" xlink:href=\"#md1f90519ab\" y=\"83.716472\"/>\n     <use style=\"fill:#1f77b4;stroke:#1f77b4;\" x=\"78.873187\" xlink:href=\"#md1f90519ab\" y=\"88.907877\"/>\n     <use style=\"fill:#1f77b4;stroke:#1f77b4;\" x=\"78.873187\" xlink:href=\"#md1f90519ab\" y=\"112.668538\"/>\n     <use style=\"fill:#1f77b4;stroke:#1f77b4;\" x=\"78.873187\" xlink:href=\"#md1f90519ab\" y=\"84.31548\"/>\n     <use style=\"fill:#1f77b4;stroke:#1f77b4;\" x=\"78.873187\" xlink:href=\"#md1f90519ab\" y=\"89.706555\"/>\n     <use style=\"fill:#1f77b4;stroke:#1f77b4;\" x=\"78.873187\" xlink:href=\"#md1f90519ab\" y=\"67.14391\"/>\n     <use style=\"fill:#1f77b4;stroke:#1f77b4;\" x=\"78.873187\" xlink:href=\"#md1f90519ab\" y=\"89.107546\"/>\n     <use style=\"fill:#1f77b4;stroke:#1f77b4;\" x=\"78.873187\" xlink:href=\"#md1f90519ab\" y=\"106.279117\"/>\n     <use style=\"fill:#1f77b4;stroke:#1f77b4;\" x=\"78.873187\" xlink:href=\"#md1f90519ab\" y=\"26.810687\"/>\n     <use style=\"fill:#1f77b4;stroke:#1f77b4;\" x=\"78.873187\" xlink:href=\"#md1f90519ab\" y=\"98.492009\"/>\n     <use style=\"fill:#1f77b4;stroke:#1f77b4;\" x=\"78.873187\" xlink:href=\"#md1f90519ab\" y=\"76.328704\"/>\n     <use style=\"fill:#1f77b4;stroke:#1f77b4;\" x=\"78.873187\" xlink:href=\"#md1f90519ab\" y=\"68.541596\"/>\n     <use style=\"fill:#1f77b4;stroke:#1f77b4;\" x=\"78.873187\" xlink:href=\"#md1f90519ab\" y=\"101.287381\"/>\n     <use style=\"fill:#1f77b4;stroke:#1f77b4;\" x=\"78.873187\" xlink:href=\"#md1f90519ab\" y=\"81.919447\"/>\n     <use style=\"fill:#1f77b4;stroke:#1f77b4;\" x=\"78.873187\" xlink:href=\"#md1f90519ab\" y=\"98.29234\"/>\n     <use style=\"fill:#1f77b4;stroke:#1f77b4;\" x=\"78.873187\" xlink:href=\"#md1f90519ab\" y=\"99.091018\"/>\n     <use style=\"fill:#1f77b4;stroke:#1f77b4;\" x=\"78.873187\" xlink:href=\"#md1f90519ab\" y=\"86.112505\"/>\n     <use style=\"fill:#1f77b4;stroke:#1f77b4;\" x=\"78.873187\" xlink:href=\"#md1f90519ab\" y=\"96.894654\"/>\n     <use style=\"fill:#1f77b4;stroke:#1f77b4;\" x=\"78.873187\" xlink:href=\"#md1f90519ab\" y=\"83.317133\"/>\n     <use style=\"fill:#1f77b4;stroke:#1f77b4;\" x=\"78.873187\" xlink:href=\"#md1f90519ab\" y=\"90.105894\"/>\n     <use style=\"fill:#1f77b4;stroke:#1f77b4;\" x=\"78.873187\" xlink:href=\"#md1f90519ab\" y=\"80.521761\"/>\n     <use style=\"fill:#1f77b4;stroke:#1f77b4;\" x=\"78.873187\" xlink:href=\"#md1f90519ab\" y=\"79.124075\"/>\n     <use style=\"fill:#1f77b4;stroke:#1f77b4;\" x=\"78.873187\" xlink:href=\"#md1f90519ab\" y=\"96.694985\"/>\n     <use style=\"fill:#1f77b4;stroke:#1f77b4;\" x=\"78.873187\" xlink:href=\"#md1f90519ab\" y=\"85.114158\"/>\n     <use style=\"fill:#1f77b4;stroke:#1f77b4;\" x=\"78.873187\" xlink:href=\"#md1f90519ab\" y=\"88.508538\"/>\n     <use style=\"fill:#1f77b4;stroke:#1f77b4;\" x=\"78.873187\" xlink:href=\"#md1f90519ab\" y=\"87.90953\"/>\n     <use style=\"fill:#1f77b4;stroke:#1f77b4;\" x=\"78.873187\" xlink:href=\"#md1f90519ab\" y=\"57.360108\"/>\n     <use style=\"fill:#1f77b4;stroke:#1f77b4;\" x=\"78.873187\" xlink:href=\"#md1f90519ab\" y=\"87.709861\"/>\n     <use style=\"fill:#1f77b4;stroke:#1f77b4;\" x=\"78.873187\" xlink:href=\"#md1f90519ab\" y=\"77.926059\"/>\n     <use style=\"fill:#1f77b4;stroke:#1f77b4;\" x=\"78.873187\" xlink:href=\"#md1f90519ab\" y=\"79.922753\"/>\n     <use style=\"fill:#1f77b4;stroke:#1f77b4;\" x=\"78.873187\" xlink:href=\"#md1f90519ab\" y=\"87.310522\"/>\n     <use style=\"fill:#1f77b4;stroke:#1f77b4;\" x=\"78.873187\" xlink:href=\"#md1f90519ab\" y=\"70.338621\"/>\n     <use style=\"fill:#1f77b4;stroke:#1f77b4;\" x=\"78.873187\" xlink:href=\"#md1f90519ab\" y=\"26.810687\"/>\n     <use style=\"fill:#1f77b4;stroke:#1f77b4;\" x=\"78.873187\" xlink:href=\"#md1f90519ab\" y=\"91.902918\"/>\n     <use style=\"fill:#1f77b4;stroke:#1f77b4;\" x=\"78.873187\" xlink:href=\"#md1f90519ab\" y=\"81.520108\"/>\n     <use style=\"fill:#1f77b4;stroke:#1f77b4;\" x=\"78.873187\" xlink:href=\"#md1f90519ab\" y=\"96.495315\"/>\n     <use style=\"fill:#1f77b4;stroke:#1f77b4;\" x=\"78.873187\" xlink:href=\"#md1f90519ab\" y=\"100.488704\"/>\n     <use style=\"fill:#1f77b4;stroke:#1f77b4;\" x=\"78.873187\" xlink:href=\"#md1f90519ab\" y=\"78.325398\"/>\n     <use style=\"fill:#1f77b4;stroke:#1f77b4;\" x=\"78.873187\" xlink:href=\"#md1f90519ab\" y=\"86.911183\"/>\n     <use style=\"fill:#1f77b4;stroke:#1f77b4;\" x=\"78.873187\" xlink:href=\"#md1f90519ab\" y=\"78.724737\"/>\n     <use style=\"fill:#1f77b4;stroke:#1f77b4;\" x=\"78.873187\" xlink:href=\"#md1f90519ab\" y=\"88.907877\"/>\n     <use style=\"fill:#1f77b4;stroke:#1f77b4;\" x=\"78.873187\" xlink:href=\"#md1f90519ab\" y=\"55.962423\"/>\n     <use style=\"fill:#1f77b4;stroke:#1f77b4;\" x=\"78.873187\" xlink:href=\"#md1f90519ab\" y=\"96.295646\"/>\n     <use style=\"fill:#1f77b4;stroke:#1f77b4;\" x=\"78.873187\" xlink:href=\"#md1f90519ab\" y=\"73.733001\"/>\n     <use style=\"fill:#1f77b4;stroke:#1f77b4;\" x=\"78.873187\" xlink:href=\"#md1f90519ab\" y=\"39.789199\"/>\n     <use style=\"fill:#1f77b4;stroke:#1f77b4;\" x=\"78.873187\" xlink:href=\"#md1f90519ab\" y=\"84.31548\"/>\n     <use style=\"fill:#1f77b4;stroke:#1f77b4;\" x=\"78.873187\" xlink:href=\"#md1f90519ab\" y=\"89.906224\"/>\n     <use style=\"fill:#1f77b4;stroke:#1f77b4;\" x=\"78.873187\" xlink:href=\"#md1f90519ab\" y=\"69.739613\"/>\n     <use style=\"fill:#1f77b4;stroke:#1f77b4;\" x=\"78.873187\" xlink:href=\"#md1f90519ab\" y=\"78.924406\"/>\n     <use style=\"fill:#1f77b4;stroke:#1f77b4;\" x=\"78.873187\" xlink:href=\"#md1f90519ab\" y=\"89.706555\"/>\n     <use style=\"fill:#1f77b4;stroke:#1f77b4;\" x=\"78.873187\" xlink:href=\"#md1f90519ab\" y=\"76.728042\"/>\n     <use style=\"fill:#1f77b4;stroke:#1f77b4;\" x=\"78.873187\" xlink:href=\"#md1f90519ab\" y=\"55.962423\"/>\n     <use style=\"fill:#1f77b4;stroke:#1f77b4;\" x=\"78.873187\" xlink:href=\"#md1f90519ab\" y=\"63.74953\"/>\n     <use style=\"fill:#1f77b4;stroke:#1f77b4;\" x=\"78.873187\" xlink:href=\"#md1f90519ab\" y=\"86.312175\"/>\n     <use style=\"fill:#1f77b4;stroke:#1f77b4;\" x=\"78.873187\" xlink:href=\"#md1f90519ab\" y=\"78.525067\"/>\n     <use style=\"fill:#1f77b4;stroke:#1f77b4;\" x=\"78.873187\" xlink:href=\"#md1f90519ab\" y=\"86.711513\"/>\n     <use style=\"fill:#1f77b4;stroke:#1f77b4;\" x=\"78.873187\" xlink:href=\"#md1f90519ab\" y=\"100.488704\"/>\n     <use style=\"fill:#1f77b4;stroke:#1f77b4;\" x=\"78.873187\" xlink:href=\"#md1f90519ab\" y=\"77.127381\"/>\n     <use style=\"fill:#1f77b4;stroke:#1f77b4;\" x=\"78.873187\" xlink:href=\"#md1f90519ab\" y=\"65.147216\"/>\n     <use style=\"fill:#1f77b4;stroke:#1f77b4;\" x=\"78.873187\" xlink:href=\"#md1f90519ab\" y=\"101.287381\"/>\n     <use style=\"fill:#1f77b4;stroke:#1f77b4;\" x=\"78.873187\" xlink:href=\"#md1f90519ab\" y=\"86.711513\"/>\n     <use style=\"fill:#1f77b4;stroke:#1f77b4;\" x=\"78.873187\" xlink:href=\"#md1f90519ab\" y=\"79.323745\"/>\n     <use style=\"fill:#1f77b4;stroke:#1f77b4;\" x=\"78.873187\" xlink:href=\"#md1f90519ab\" y=\"105.0811\"/>\n     <use style=\"fill:#1f77b4;stroke:#1f77b4;\" x=\"78.873187\" xlink:href=\"#md1f90519ab\" y=\"85.513497\"/>\n     <use style=\"fill:#1f77b4;stroke:#1f77b4;\" x=\"78.873187\" xlink:href=\"#md1f90519ab\" y=\"85.114158\"/>\n     <use style=\"fill:#1f77b4;stroke:#1f77b4;\" x=\"78.873187\" xlink:href=\"#md1f90519ab\" y=\"116.661927\"/>\n     <use style=\"fill:#1f77b4;stroke:#1f77b4;\" x=\"78.873187\" xlink:href=\"#md1f90519ab\" y=\"86.511844\"/>\n     <use style=\"fill:#1f77b4;stroke:#1f77b4;\" x=\"78.873187\" xlink:href=\"#md1f90519ab\" y=\"29.805728\"/>\n     <use style=\"fill:#1f77b4;stroke:#1f77b4;\" x=\"78.873187\" xlink:href=\"#md1f90519ab\" y=\"104.881431\"/>\n     <use style=\"fill:#1f77b4;stroke:#1f77b4;\" x=\"78.873187\" xlink:href=\"#md1f90519ab\" y=\"112.668538\"/>\n     <use style=\"fill:#1f77b4;stroke:#1f77b4;\" x=\"78.873187\" xlink:href=\"#md1f90519ab\" y=\"84.914489\"/>\n     <use style=\"fill:#1f77b4;stroke:#1f77b4;\" x=\"78.873187\" xlink:href=\"#md1f90519ab\" y=\"92.302257\"/>\n     <use style=\"fill:#1f77b4;stroke:#1f77b4;\" x=\"78.873187\" xlink:href=\"#md1f90519ab\" y=\"84.914489\"/>\n     <use style=\"fill:#1f77b4;stroke:#1f77b4;\" x=\"78.873187\" xlink:href=\"#md1f90519ab\" y=\"107.277464\"/>\n     <use style=\"fill:#1f77b4;stroke:#1f77b4;\" x=\"78.873187\" xlink:href=\"#md1f90519ab\" y=\"87.90953\"/>\n     <use style=\"fill:#1f77b4;stroke:#1f77b4;\" x=\"78.873187\" xlink:href=\"#md1f90519ab\" y=\"68.741265\"/>\n     <use style=\"fill:#1f77b4;stroke:#1f77b4;\" x=\"78.873187\" xlink:href=\"#md1f90519ab\" y=\"93.899613\"/>\n     <use style=\"fill:#1f77b4;stroke:#1f77b4;\" x=\"78.873187\" xlink:href=\"#md1f90519ab\" y=\"76.728042\"/>\n     <use style=\"fill:#1f77b4;stroke:#1f77b4;\" x=\"78.873187\" xlink:href=\"#md1f90519ab\" y=\"76.728042\"/>\n     <use style=\"fill:#1f77b4;stroke:#1f77b4;\" x=\"78.873187\" xlink:href=\"#md1f90519ab\" y=\"92.501927\"/>\n     <use style=\"fill:#1f77b4;stroke:#1f77b4;\" x=\"78.873187\" xlink:href=\"#md1f90519ab\" y=\"80.322092\"/>\n     <use style=\"fill:#1f77b4;stroke:#1f77b4;\" x=\"78.873187\" xlink:href=\"#md1f90519ab\" y=\"105.879778\"/>\n     <use style=\"fill:#1f77b4;stroke:#1f77b4;\" x=\"78.873187\" xlink:href=\"#md1f90519ab\" y=\"87.510191\"/>\n     <use style=\"fill:#1f77b4;stroke:#1f77b4;\" x=\"78.873187\" xlink:href=\"#md1f90519ab\" y=\"92.302257\"/>\n     <use style=\"fill:#1f77b4;stroke:#1f77b4;\" x=\"78.873187\" xlink:href=\"#md1f90519ab\" y=\"71.736307\"/>\n     <use style=\"fill:#1f77b4;stroke:#1f77b4;\" x=\"78.873187\" xlink:href=\"#md1f90519ab\" y=\"80.721431\"/>\n     <use style=\"fill:#1f77b4;stroke:#1f77b4;\" x=\"78.873187\" xlink:href=\"#md1f90519ab\" y=\"26.810687\"/>\n     <use style=\"fill:#1f77b4;stroke:#1f77b4;\" x=\"78.873187\" xlink:href=\"#md1f90519ab\" y=\"90.904571\"/>\n     <use style=\"fill:#1f77b4;stroke:#1f77b4;\" x=\"78.873187\" xlink:href=\"#md1f90519ab\" y=\"107.477133\"/>\n     <use style=\"fill:#1f77b4;stroke:#1f77b4;\" x=\"78.873187\" xlink:href=\"#md1f90519ab\" y=\"92.302257\"/>\n     <use style=\"fill:#1f77b4;stroke:#1f77b4;\" x=\"78.873187\" xlink:href=\"#md1f90519ab\" y=\"81.719778\"/>\n     <use style=\"fill:#1f77b4;stroke:#1f77b4;\" x=\"78.873187\" xlink:href=\"#md1f90519ab\" y=\"83.916142\"/>\n    </g>\n   </g>\n   <g id=\"matplotlib.axis_1\">\n    <g id=\"xtick_1\">\n     <g id=\"line2d_1\">\n      <defs>\n       <path d=\"M 0 0 \nL 0 3.5 \n\" id=\"mf1a946131d\" style=\"stroke:#000000;stroke-width:0.8;\"/>\n      </defs>\n      <g>\n       <use style=\"stroke:#000000;stroke-width:0.8;\" x=\"34.648748\" xlink:href=\"#mf1a946131d\" y=\"121.154489\"/>\n      </g>\n     </g>\n    </g>\n    <g id=\"xtick_2\">\n     <g id=\"line2d_2\">\n      <g>\n       <use style=\"stroke:#000000;stroke-width:0.8;\" x=\"69.208447\" xlink:href=\"#mf1a946131d\" y=\"121.154489\"/>\n      </g>\n     </g>\n    </g>\n    <g id=\"xtick_3\">\n     <g id=\"line2d_3\">\n      <g>\n       <use style=\"stroke:#000000;stroke-width:0.8;\" x=\"103.768146\" xlink:href=\"#mf1a946131d\" y=\"121.154489\"/>\n      </g>\n     </g>\n    </g>\n    <g id=\"xtick_4\">\n     <g id=\"line2d_4\">\n      <g>\n       <use style=\"stroke:#000000;stroke-width:0.8;\" x=\"138.327845\" xlink:href=\"#mf1a946131d\" y=\"121.154489\"/>\n      </g>\n     </g>\n    </g>\n    <g id=\"xtick_5\">\n     <g id=\"line2d_5\">\n      <g>\n       <use style=\"stroke:#000000;stroke-width:0.8;\" x=\"172.887544\" xlink:href=\"#mf1a946131d\" y=\"121.154489\"/>\n      </g>\n     </g>\n    </g>\n   </g>\n   <g id=\"matplotlib.axis_2\">\n    <g id=\"ytick_1\">\n     <g id=\"line2d_6\">\n      <defs>\n       <path d=\"M 0 0 \nL -3.5 0 \n\" id=\"me70517e84f\" style=\"stroke:#000000;stroke-width:0.8;\"/>\n      </defs>\n      <g>\n       <use style=\"stroke:#000000;stroke-width:0.8;\" x=\"26.925\" xlink:href=\"#me70517e84f\" y=\"86.711513\"/>\n      </g>\n     </g>\n     <g id=\"text_1\">\n      <!-- 20 -->\n      <g transform=\"translate(7.2 90.510732)scale(0.1 -0.1)\">\n       <defs>\n        <path d=\"M 19.1875 8.296875 \nL 53.609375 8.296875 \nL 53.609375 0 \nL 7.328125 0 \nL 7.328125 8.296875 \nQ 12.9375 14.109375 22.625 23.890625 \nQ 32.328125 33.6875 34.8125 36.53125 \nQ 39.546875 41.84375 41.421875 45.53125 \nQ 43.3125 49.21875 43.3125 52.78125 \nQ 43.3125 58.59375 39.234375 62.25 \nQ 35.15625 65.921875 28.609375 65.921875 \nQ 23.96875 65.921875 18.8125 64.3125 \nQ 13.671875 62.703125 7.8125 59.421875 \nL 7.8125 69.390625 \nQ 13.765625 71.78125 18.9375 73 \nQ 24.125 74.21875 28.421875 74.21875 \nQ 39.75 74.21875 46.484375 68.546875 \nQ 53.21875 62.890625 53.21875 53.421875 \nQ 53.21875 48.921875 51.53125 44.890625 \nQ 49.859375 40.875 45.40625 35.40625 \nQ 44.1875 33.984375 37.640625 27.21875 \nQ 31.109375 20.453125 19.1875 8.296875 \nz\n\" id=\"DejaVuSans-50\"/>\n        <path d=\"M 31.78125 66.40625 \nQ 24.171875 66.40625 20.328125 58.90625 \nQ 16.5 51.421875 16.5 36.375 \nQ 16.5 21.390625 20.328125 13.890625 \nQ 24.171875 6.390625 31.78125 6.390625 \nQ 39.453125 6.390625 43.28125 13.890625 \nQ 47.125 21.390625 47.125 36.375 \nQ 47.125 51.421875 43.28125 58.90625 \nQ 39.453125 66.40625 31.78125 66.40625 \nz\nM 31.78125 74.21875 \nQ 44.046875 74.21875 50.515625 64.515625 \nQ 56.984375 54.828125 56.984375 36.375 \nQ 56.984375 17.96875 50.515625 8.265625 \nQ 44.046875 -1.421875 31.78125 -1.421875 \nQ 19.53125 -1.421875 13.0625 8.265625 \nQ 6.59375 17.96875 6.59375 36.375 \nQ 6.59375 54.828125 13.0625 64.515625 \nQ 19.53125 74.21875 31.78125 74.21875 \nz\n\" id=\"DejaVuSans-48\"/>\n       </defs>\n       <use xlink:href=\"#DejaVuSans-50\"/>\n       <use x=\"63.623047\" xlink:href=\"#DejaVuSans-48\"/>\n      </g>\n     </g>\n    </g>\n    <g id=\"ytick_2\">\n     <g id=\"line2d_7\">\n      <g>\n       <use style=\"stroke:#000000;stroke-width:0.8;\" x=\"26.925\" xlink:href=\"#me70517e84f\" y=\"46.777629\"/>\n      </g>\n     </g>\n     <g id=\"text_2\">\n      <!-- 40 -->\n      <g transform=\"translate(7.2 50.576848)scale(0.1 -0.1)\">\n       <defs>\n        <path d=\"M 37.796875 64.3125 \nL 12.890625 25.390625 \nL 37.796875 25.390625 \nz\nM 35.203125 72.90625 \nL 47.609375 72.90625 \nL 47.609375 25.390625 \nL 58.015625 25.390625 \nL 58.015625 17.1875 \nL 47.609375 17.1875 \nL 47.609375 0 \nL 37.796875 0 \nL 37.796875 17.1875 \nL 4.890625 17.1875 \nL 4.890625 26.703125 \nz\n\" id=\"DejaVuSans-52\"/>\n       </defs>\n       <use xlink:href=\"#DejaVuSans-52\"/>\n       <use x=\"63.623047\" xlink:href=\"#DejaVuSans-48\"/>\n      </g>\n     </g>\n    </g>\n   </g>\n   <g id=\"patch_3\">\n    <path d=\"M 26.925 121.154489 \nL 26.925 22.318125 \n\" style=\"fill:none;stroke:#000000;stroke-linecap:square;stroke-linejoin:miter;stroke-width:0.8;\"/>\n   </g>\n   <g id=\"patch_4\">\n    <path d=\"M 179.106818 121.154489 \nL 179.106818 22.318125 \n\" style=\"fill:none;stroke:#000000;stroke-linecap:square;stroke-linejoin:miter;stroke-width:0.8;\"/>\n   </g>\n   <g id=\"patch_5\">\n    <path d=\"M 26.925 121.154489 \nL 179.106818 121.154489 \n\" style=\"fill:none;stroke:#000000;stroke-linecap:square;stroke-linejoin:miter;stroke-width:0.8;\"/>\n   </g>\n   <g id=\"patch_6\">\n    <path d=\"M 26.925 22.318125 \nL 179.106818 22.318125 \n\" style=\"fill:none;stroke:#000000;stroke-linecap:square;stroke-linejoin:miter;stroke-width:0.8;\"/>\n   </g>\n   <g id=\"text_3\">\n    <!-- average y -->\n    <g transform=\"translate(72.993409 16.318125)scale(0.12 -0.12)\">\n     <defs>\n      <path d=\"M 34.28125 27.484375 \nQ 23.390625 27.484375 19.1875 25 \nQ 14.984375 22.515625 14.984375 16.5 \nQ 14.984375 11.71875 18.140625 8.90625 \nQ 21.296875 6.109375 26.703125 6.109375 \nQ 34.1875 6.109375 38.703125 11.40625 \nQ 43.21875 16.703125 43.21875 25.484375 \nL 43.21875 27.484375 \nz\nM 52.203125 31.203125 \nL 52.203125 0 \nL 43.21875 0 \nL 43.21875 8.296875 \nQ 40.140625 3.328125 35.546875 0.953125 \nQ 30.953125 -1.421875 24.3125 -1.421875 \nQ 15.921875 -1.421875 10.953125 3.296875 \nQ 6 8.015625 6 15.921875 \nQ 6 25.140625 12.171875 29.828125 \nQ 18.359375 34.515625 30.609375 34.515625 \nL 43.21875 34.515625 \nL 43.21875 35.40625 \nQ 43.21875 41.609375 39.140625 45 \nQ 35.0625 48.390625 27.6875 48.390625 \nQ 23 48.390625 18.546875 47.265625 \nQ 14.109375 46.140625 10.015625 43.890625 \nL 10.015625 52.203125 \nQ 14.9375 54.109375 19.578125 55.046875 \nQ 24.21875 56 28.609375 56 \nQ 40.484375 56 46.34375 49.84375 \nQ 52.203125 43.703125 52.203125 31.203125 \nz\n\" id=\"DejaVuSans-97\"/>\n      <path d=\"M 2.984375 54.6875 \nL 12.5 54.6875 \nL 29.59375 8.796875 \nL 46.6875 54.6875 \nL 56.203125 54.6875 \nL 35.6875 0 \nL 23.484375 0 \nz\n\" id=\"DejaVuSans-118\"/>\n      <path d=\"M 56.203125 29.59375 \nL 56.203125 25.203125 \nL 14.890625 25.203125 \nQ 15.484375 15.921875 20.484375 11.0625 \nQ 25.484375 6.203125 34.421875 6.203125 \nQ 39.59375 6.203125 44.453125 7.46875 \nQ 49.3125 8.734375 54.109375 11.28125 \nL 54.109375 2.78125 \nQ 49.265625 0.734375 44.1875 -0.34375 \nQ 39.109375 -1.421875 33.890625 -1.421875 \nQ 20.796875 -1.421875 13.15625 6.1875 \nQ 5.515625 13.8125 5.515625 26.8125 \nQ 5.515625 40.234375 12.765625 48.109375 \nQ 20.015625 56 32.328125 56 \nQ 43.359375 56 49.78125 48.890625 \nQ 56.203125 41.796875 56.203125 29.59375 \nz\nM 47.21875 32.234375 \nQ 47.125 39.59375 43.09375 43.984375 \nQ 39.0625 48.390625 32.421875 48.390625 \nQ 24.90625 48.390625 20.390625 44.140625 \nQ 15.875 39.890625 15.1875 32.171875 \nz\n\" id=\"DejaVuSans-101\"/>\n      <path d=\"M 41.109375 46.296875 \nQ 39.59375 47.171875 37.8125 47.578125 \nQ 36.03125 48 33.890625 48 \nQ 26.265625 48 22.1875 43.046875 \nQ 18.109375 38.09375 18.109375 28.8125 \nL 18.109375 0 \nL 9.078125 0 \nL 9.078125 54.6875 \nL 18.109375 54.6875 \nL 18.109375 46.1875 \nQ 20.953125 51.171875 25.484375 53.578125 \nQ 30.03125 56 36.53125 56 \nQ 37.453125 56 38.578125 55.875 \nQ 39.703125 55.765625 41.0625 55.515625 \nz\n\" id=\"DejaVuSans-114\"/>\n      <path d=\"M 45.40625 27.984375 \nQ 45.40625 37.75 41.375 43.109375 \nQ 37.359375 48.484375 30.078125 48.484375 \nQ 22.859375 48.484375 18.828125 43.109375 \nQ 14.796875 37.75 14.796875 27.984375 \nQ 14.796875 18.265625 18.828125 12.890625 \nQ 22.859375 7.515625 30.078125 7.515625 \nQ 37.359375 7.515625 41.375 12.890625 \nQ 45.40625 18.265625 45.40625 27.984375 \nz\nM 54.390625 6.78125 \nQ 54.390625 -7.171875 48.1875 -13.984375 \nQ 42 -20.796875 29.203125 -20.796875 \nQ 24.46875 -20.796875 20.265625 -20.09375 \nQ 16.0625 -19.390625 12.109375 -17.921875 \nL 12.109375 -9.1875 \nQ 16.0625 -11.328125 19.921875 -12.34375 \nQ 23.78125 -13.375 27.78125 -13.375 \nQ 36.625 -13.375 41.015625 -8.765625 \nQ 45.40625 -4.15625 45.40625 5.171875 \nL 45.40625 9.625 \nQ 42.625 4.78125 38.28125 2.390625 \nQ 33.9375 0 27.875 0 \nQ 17.828125 0 11.671875 7.65625 \nQ 5.515625 15.328125 5.515625 27.984375 \nQ 5.515625 40.671875 11.671875 48.328125 \nQ 17.828125 56 27.875 56 \nQ 33.9375 56 38.28125 53.609375 \nQ 42.625 51.21875 45.40625 46.390625 \nL 45.40625 54.6875 \nL 54.390625 54.6875 \nz\n\" id=\"DejaVuSans-103\"/>\n      <path id=\"DejaVuSans-32\"/>\n      <path d=\"M 32.171875 -5.078125 \nQ 28.375 -14.84375 24.75 -17.8125 \nQ 21.140625 -20.796875 15.09375 -20.796875 \nL 7.90625 -20.796875 \nL 7.90625 -13.28125 \nL 13.1875 -13.28125 \nQ 16.890625 -13.28125 18.9375 -11.515625 \nQ 21 -9.765625 23.484375 -3.21875 \nL 25.09375 0.875 \nL 2.984375 54.6875 \nL 12.5 54.6875 \nL 29.59375 11.921875 \nL 46.6875 54.6875 \nL 56.203125 54.6875 \nz\n\" id=\"DejaVuSans-121\"/>\n     </defs>\n     <use xlink:href=\"#DejaVuSans-97\"/>\n     <use x=\"61.279297\" xlink:href=\"#DejaVuSans-118\"/>\n     <use x=\"120.458984\" xlink:href=\"#DejaVuSans-101\"/>\n     <use x=\"181.982422\" xlink:href=\"#DejaVuSans-114\"/>\n     <use x=\"223.095703\" xlink:href=\"#DejaVuSans-97\"/>\n     <use x=\"284.375\" xlink:href=\"#DejaVuSans-103\"/>\n     <use x=\"347.851562\" xlink:href=\"#DejaVuSans-101\"/>\n     <use x=\"409.375\" xlink:href=\"#DejaVuSans-32\"/>\n     <use x=\"441.162109\" xlink:href=\"#DejaVuSans-121\"/>\n    </g>\n   </g>\n  </g>\n  <g id=\"axes_2\">\n   <g id=\"patch_7\">\n    <path d=\"M 209.543182 121.154489 \nL 361.725 121.154489 \nL 361.725 22.318125 \nL 209.543182 22.318125 \nz\n\" style=\"fill:#ffffff;\"/>\n   </g>\n   <g id=\"PathCollection_2\">\n    <g clip-path=\"url(#p2349b37f48)\">\n     <use style=\"fill:#1f77b4;stroke:#1f77b4;\" x=\"273.705713\" xlink:href=\"#md1f90519ab\" y=\"79.523414\"/>\n     <use style=\"fill:#1f77b4;stroke:#1f77b4;\" x=\"266.597394\" xlink:href=\"#md1f90519ab\" y=\"61.952505\"/>\n     <use style=\"fill:#1f77b4;stroke:#1f77b4;\" x=\"248.826597\" xlink:href=\"#md1f90519ab\" y=\"99.490356\"/>\n     <use style=\"fill:#1f77b4;stroke:#1f77b4;\" x=\"255.224084\" xlink:href=\"#md1f90519ab\" y=\"81.12077\"/>\n     <use style=\"fill:#1f77b4;stroke:#1f77b4;\" x=\"248.115765\" xlink:href=\"#md1f90519ab\" y=\"94.498621\"/>\n     <use style=\"fill:#1f77b4;stroke:#1f77b4;\" x=\"258.778243\" xlink:href=\"#md1f90519ab\" y=\"86.711513\"/>\n     <use style=\"fill:#1f77b4;stroke:#1f77b4;\" x=\"260.910739\" xlink:href=\"#md1f90519ab\" y=\"91.104241\"/>\n     <use style=\"fill:#1f77b4;stroke:#1f77b4;\" x=\"241.007446\" xlink:href=\"#md1f90519ab\" y=\"98.691679\"/>\n     <use style=\"fill:#1f77b4;stroke:#1f77b4;\" x=\"248.115765\" xlink:href=\"#md1f90519ab\" y=\"87.510191\"/>\n     <use style=\"fill:#1f77b4;stroke:#1f77b4;\" x=\"255.224084\" xlink:href=\"#md1f90519ab\" y=\"93.100935\"/>\n     <use style=\"fill:#1f77b4;stroke:#1f77b4;\" x=\"275.127377\" xlink:href=\"#md1f90519ab\" y=\"83.716472\"/>\n     <use style=\"fill:#1f77b4;stroke:#1f77b4;\" x=\"283.657359\" xlink:href=\"#md1f90519ab\" y=\"88.907877\"/>\n     <use style=\"fill:#1f77b4;stroke:#1f77b4;\" x=\"248.115765\" xlink:href=\"#md1f90519ab\" y=\"112.668538\"/>\n     <use style=\"fill:#1f77b4;stroke:#1f77b4;\" x=\"258.778243\" xlink:href=\"#md1f90519ab\" y=\"84.31548\"/>\n     <use style=\"fill:#1f77b4;stroke:#1f77b4;\" x=\"252.380756\" xlink:href=\"#md1f90519ab\" y=\"89.706555\"/>\n     <use style=\"fill:#1f77b4;stroke:#1f77b4;\" x=\"248.115765\" xlink:href=\"#md1f90519ab\" y=\"67.14391\"/>\n     <use style=\"fill:#1f77b4;stroke:#1f77b4;\" x=\"255.934915\" xlink:href=\"#md1f90519ab\" y=\"89.107546\"/>\n     <use style=\"fill:#1f77b4;stroke:#1f77b4;\" x=\"248.115765\" xlink:href=\"#md1f90519ab\" y=\"106.279117\"/>\n     <use style=\"fill:#1f77b4;stroke:#1f77b4;\" x=\"289.344014\" xlink:href=\"#md1f90519ab\" y=\"26.810687\"/>\n     <use style=\"fill:#1f77b4;stroke:#1f77b4;\" x=\"248.115765\" xlink:href=\"#md1f90519ab\" y=\"98.492009\"/>\n     <use style=\"fill:#1f77b4;stroke:#1f77b4;\" x=\"259.489075\" xlink:href=\"#md1f90519ab\" y=\"76.328704\"/>\n     <use style=\"fill:#1f77b4;stroke:#1f77b4;\" x=\"266.597394\" xlink:href=\"#md1f90519ab\" y=\"68.541596\"/>\n     <use style=\"fill:#1f77b4;stroke:#1f77b4;\" x=\"242.42911\" xlink:href=\"#md1f90519ab\" y=\"101.287381\"/>\n     <use style=\"fill:#1f77b4;stroke:#1f77b4;\" x=\"242.42911\" xlink:href=\"#md1f90519ab\" y=\"81.919447\"/>\n     <use style=\"fill:#1f77b4;stroke:#1f77b4;\" x=\"248.115765\" xlink:href=\"#md1f90519ab\" y=\"98.29234\"/>\n     <use style=\"fill:#1f77b4;stroke:#1f77b4;\" x=\"248.115765\" xlink:href=\"#md1f90519ab\" y=\"99.091018\"/>\n     <use style=\"fill:#1f77b4;stroke:#1f77b4;\" x=\"258.778243\" xlink:href=\"#md1f90519ab\" y=\"86.112505\"/>\n     <use style=\"fill:#1f77b4;stroke:#1f77b4;\" x=\"248.115765\" xlink:href=\"#md1f90519ab\" y=\"96.894654\"/>\n     <use style=\"fill:#1f77b4;stroke:#1f77b4;\" x=\"259.489075\" xlink:href=\"#md1f90519ab\" y=\"83.317133\"/>\n     <use style=\"fill:#1f77b4;stroke:#1f77b4;\" x=\"255.224084\" xlink:href=\"#md1f90519ab\" y=\"90.105894\"/>\n     <use style=\"fill:#1f77b4;stroke:#1f77b4;\" x=\"273.705713\" xlink:href=\"#md1f90519ab\" y=\"80.521761\"/>\n     <use style=\"fill:#1f77b4;stroke:#1f77b4;\" x=\"252.380756\" xlink:href=\"#md1f90519ab\" y=\"79.124075\"/>\n     <use style=\"fill:#1f77b4;stroke:#1f77b4;\" x=\"248.115765\" xlink:href=\"#md1f90519ab\" y=\"96.694985\"/>\n     <use style=\"fill:#1f77b4;stroke:#1f77b4;\" x=\"248.115765\" xlink:href=\"#md1f90519ab\" y=\"85.114158\"/>\n     <use style=\"fill:#1f77b4;stroke:#1f77b4;\" x=\"248.115765\" xlink:href=\"#md1f90519ab\" y=\"88.508538\"/>\n     <use style=\"fill:#1f77b4;stroke:#1f77b4;\" x=\"287.211519\" xlink:href=\"#md1f90519ab\" y=\"87.90953\"/>\n     <use style=\"fill:#1f77b4;stroke:#1f77b4;\" x=\"265.17573\" xlink:href=\"#md1f90519ab\" y=\"57.360108\"/>\n     <use style=\"fill:#1f77b4;stroke:#1f77b4;\" x=\"248.115765\" xlink:href=\"#md1f90519ab\" y=\"87.709861\"/>\n     <use style=\"fill:#1f77b4;stroke:#1f77b4;\" x=\"259.489075\" xlink:href=\"#md1f90519ab\" y=\"77.926059\"/>\n     <use style=\"fill:#1f77b4;stroke:#1f77b4;\" x=\"255.224084\" xlink:href=\"#md1f90519ab\" y=\"79.922753\"/>\n     <use style=\"fill:#1f77b4;stroke:#1f77b4;\" x=\"255.224084\" xlink:href=\"#md1f90519ab\" y=\"87.310522\"/>\n     <use style=\"fill:#1f77b4;stroke:#1f77b4;\" x=\"260.910739\" xlink:href=\"#md1f90519ab\" y=\"70.338621\"/>\n     <use style=\"fill:#1f77b4;stroke:#1f77b4;\" x=\"287.211519\" xlink:href=\"#md1f90519ab\" y=\"26.810687\"/>\n     <use style=\"fill:#1f77b4;stroke:#1f77b4;\" x=\"257.356579\" xlink:href=\"#md1f90519ab\" y=\"91.902918\"/>\n     <use style=\"fill:#1f77b4;stroke:#1f77b4;\" x=\"265.17573\" xlink:href=\"#md1f90519ab\" y=\"81.520108\"/>\n     <use style=\"fill:#1f77b4;stroke:#1f77b4;\" x=\"248.115765\" xlink:href=\"#md1f90519ab\" y=\"96.495315\"/>\n     <use style=\"fill:#1f77b4;stroke:#1f77b4;\" x=\"242.42911\" xlink:href=\"#md1f90519ab\" y=\"100.488704\"/>\n     <use style=\"fill:#1f77b4;stroke:#1f77b4;\" x=\"255.224084\" xlink:href=\"#md1f90519ab\" y=\"78.325398\"/>\n     <use style=\"fill:#1f77b4;stroke:#1f77b4;\" x=\"248.115765\" xlink:href=\"#md1f90519ab\" y=\"86.911183\"/>\n     <use style=\"fill:#1f77b4;stroke:#1f77b4;\" x=\"282.946527\" xlink:href=\"#md1f90519ab\" y=\"78.724737\"/>\n     <use style=\"fill:#1f77b4;stroke:#1f77b4;\" x=\"283.657359\" xlink:href=\"#md1f90519ab\" y=\"88.907877\"/>\n     <use style=\"fill:#1f77b4;stroke:#1f77b4;\" x=\"285.789855\" xlink:href=\"#md1f90519ab\" y=\"55.962423\"/>\n     <use style=\"fill:#1f77b4;stroke:#1f77b4;\" x=\"242.42911\" xlink:href=\"#md1f90519ab\" y=\"96.295646\"/>\n     <use style=\"fill:#1f77b4;stroke:#1f77b4;\" x=\"243.139941\" xlink:href=\"#md1f90519ab\" y=\"73.733001\"/>\n     <use style=\"fill:#1f77b4;stroke:#1f77b4;\" x=\"299.295661\" xlink:href=\"#md1f90519ab\" y=\"39.789199\"/>\n     <use style=\"fill:#1f77b4;stroke:#1f77b4;\" x=\"248.115765\" xlink:href=\"#md1f90519ab\" y=\"84.31548\"/>\n     <use style=\"fill:#1f77b4;stroke:#1f77b4;\" x=\"248.115765\" xlink:href=\"#md1f90519ab\" y=\"89.906224\"/>\n     <use style=\"fill:#1f77b4;stroke:#1f77b4;\" x=\"255.224084\" xlink:href=\"#md1f90519ab\" y=\"69.739613\"/>\n     <use style=\"fill:#1f77b4;stroke:#1f77b4;\" x=\"260.199907\" xlink:href=\"#md1f90519ab\" y=\"78.924406\"/>\n     <use style=\"fill:#1f77b4;stroke:#1f77b4;\" x=\"255.934915\" xlink:href=\"#md1f90519ab\" y=\"89.706555\"/>\n     <use style=\"fill:#1f77b4;stroke:#1f77b4;\" x=\"251.669924\" xlink:href=\"#md1f90519ab\" y=\"76.728042\"/>\n     <use style=\"fill:#1f77b4;stroke:#1f77b4;\" x=\"264.464898\" xlink:href=\"#md1f90519ab\" y=\"55.962423\"/>\n     <use style=\"fill:#1f77b4;stroke:#1f77b4;\" x=\"268.019058\" xlink:href=\"#md1f90519ab\" y=\"63.74953\"/>\n     <use style=\"fill:#1f77b4;stroke:#1f77b4;\" x=\"242.42911\" xlink:href=\"#md1f90519ab\" y=\"86.312175\"/>\n     <use style=\"fill:#1f77b4;stroke:#1f77b4;\" x=\"261.621571\" xlink:href=\"#md1f90519ab\" y=\"78.525067\"/>\n     <use style=\"fill:#1f77b4;stroke:#1f77b4;\" x=\"259.489075\" xlink:href=\"#md1f90519ab\" y=\"86.711513\"/>\n     <use style=\"fill:#1f77b4;stroke:#1f77b4;\" x=\"248.115765\" xlink:href=\"#md1f90519ab\" y=\"100.488704\"/>\n     <use style=\"fill:#1f77b4;stroke:#1f77b4;\" x=\"256.645747\" xlink:href=\"#md1f90519ab\" y=\"77.127381\"/>\n     <use style=\"fill:#1f77b4;stroke:#1f77b4;\" x=\"261.621571\" xlink:href=\"#md1f90519ab\" y=\"65.147216\"/>\n     <use style=\"fill:#1f77b4;stroke:#1f77b4;\" x=\"248.115765\" xlink:href=\"#md1f90519ab\" y=\"101.287381\"/>\n     <use style=\"fill:#1f77b4;stroke:#1f77b4;\" x=\"264.464898\" xlink:href=\"#md1f90519ab\" y=\"86.711513\"/>\n     <use style=\"fill:#1f77b4;stroke:#1f77b4;\" x=\"248.115765\" xlink:href=\"#md1f90519ab\" y=\"79.323745\"/>\n     <use style=\"fill:#1f77b4;stroke:#1f77b4;\" x=\"248.115765\" xlink:href=\"#md1f90519ab\" y=\"105.0811\"/>\n     <use style=\"fill:#1f77b4;stroke:#1f77b4;\" x=\"235.320791\" xlink:href=\"#md1f90519ab\" y=\"85.513497\"/>\n     <use style=\"fill:#1f77b4;stroke:#1f77b4;\" x=\"258.778243\" xlink:href=\"#md1f90519ab\" y=\"85.114158\"/>\n     <use style=\"fill:#1f77b4;stroke:#1f77b4;\" x=\"248.115765\" xlink:href=\"#md1f90519ab\" y=\"116.661927\"/>\n     <use style=\"fill:#1f77b4;stroke:#1f77b4;\" x=\"243.139941\" xlink:href=\"#md1f90519ab\" y=\"86.511844\"/>\n     <use style=\"fill:#1f77b4;stroke:#1f77b4;\" x=\"287.211519\" xlink:href=\"#md1f90519ab\" y=\"29.805728\"/>\n     <use style=\"fill:#1f77b4;stroke:#1f77b4;\" x=\"248.115765\" xlink:href=\"#md1f90519ab\" y=\"104.881431\"/>\n     <use style=\"fill:#1f77b4;stroke:#1f77b4;\" x=\"248.826597\" xlink:href=\"#md1f90519ab\" y=\"112.668538\"/>\n     <use style=\"fill:#1f77b4;stroke:#1f77b4;\" x=\"257.356579\" xlink:href=\"#md1f90519ab\" y=\"84.914489\"/>\n     <use style=\"fill:#1f77b4;stroke:#1f77b4;\" x=\"248.115765\" xlink:href=\"#md1f90519ab\" y=\"92.302257\"/>\n     <use style=\"fill:#1f77b4;stroke:#1f77b4;\" x=\"275.127377\" xlink:href=\"#md1f90519ab\" y=\"84.914489\"/>\n     <use style=\"fill:#1f77b4;stroke:#1f77b4;\" x=\"248.115765\" xlink:href=\"#md1f90519ab\" y=\"107.277464\"/>\n     <use style=\"fill:#1f77b4;stroke:#1f77b4;\" x=\"260.910739\" xlink:href=\"#md1f90519ab\" y=\"87.90953\"/>\n     <use style=\"fill:#1f77b4;stroke:#1f77b4;\" x=\"268.019058\" xlink:href=\"#md1f90519ab\" y=\"68.741265\"/>\n     <use style=\"fill:#1f77b4;stroke:#1f77b4;\" x=\"248.115765\" xlink:href=\"#md1f90519ab\" y=\"93.899613\"/>\n     <use style=\"fill:#1f77b4;stroke:#1f77b4;\" x=\"252.380756\" xlink:href=\"#md1f90519ab\" y=\"76.728042\"/>\n     <use style=\"fill:#1f77b4;stroke:#1f77b4;\" x=\"262.332403\" xlink:href=\"#md1f90519ab\" y=\"76.728042\"/>\n     <use style=\"fill:#1f77b4;stroke:#1f77b4;\" x=\"241.007446\" xlink:href=\"#md1f90519ab\" y=\"92.501927\"/>\n     <use style=\"fill:#1f77b4;stroke:#1f77b4;\" x=\"273.705713\" xlink:href=\"#md1f90519ab\" y=\"80.322092\"/>\n     <use style=\"fill:#1f77b4;stroke:#1f77b4;\" x=\"248.115765\" xlink:href=\"#md1f90519ab\" y=\"105.879778\"/>\n     <use style=\"fill:#1f77b4;stroke:#1f77b4;\" x=\"241.007446\" xlink:href=\"#md1f90519ab\" y=\"87.510191\"/>\n     <use style=\"fill:#1f77b4;stroke:#1f77b4;\" x=\"258.067411\" xlink:href=\"#md1f90519ab\" y=\"92.302257\"/>\n     <use style=\"fill:#1f77b4;stroke:#1f77b4;\" x=\"248.115765\" xlink:href=\"#md1f90519ab\" y=\"71.736307\"/>\n     <use style=\"fill:#1f77b4;stroke:#1f77b4;\" x=\"241.007446\" xlink:href=\"#md1f90519ab\" y=\"80.721431\"/>\n     <use style=\"fill:#1f77b4;stroke:#1f77b4;\" x=\"248.115765\" xlink:href=\"#md1f90519ab\" y=\"26.810687\"/>\n     <use style=\"fill:#1f77b4;stroke:#1f77b4;\" x=\"248.115765\" xlink:href=\"#md1f90519ab\" y=\"90.904571\"/>\n     <use style=\"fill:#1f77b4;stroke:#1f77b4;\" x=\"248.115765\" xlink:href=\"#md1f90519ab\" y=\"107.477133\"/>\n     <use style=\"fill:#1f77b4;stroke:#1f77b4;\" x=\"248.115765\" xlink:href=\"#md1f90519ab\" y=\"92.302257\"/>\n     <use style=\"fill:#1f77b4;stroke:#1f77b4;\" x=\"260.199907\" xlink:href=\"#md1f90519ab\" y=\"81.719778\"/>\n     <use style=\"fill:#1f77b4;stroke:#1f77b4;\" x=\"258.778243\" xlink:href=\"#md1f90519ab\" y=\"83.916142\"/>\n    </g>\n   </g>\n   <g id=\"matplotlib.axis_3\">\n    <g id=\"xtick_6\">\n     <g id=\"line2d_8\">\n      <g>\n       <use style=\"stroke:#000000;stroke-width:0.8;\" x=\"217.26693\" xlink:href=\"#mf1a946131d\" y=\"121.154489\"/>\n      </g>\n     </g>\n    </g>\n    <g id=\"xtick_7\">\n     <g id=\"line2d_9\">\n      <g>\n       <use style=\"stroke:#000000;stroke-width:0.8;\" x=\"251.826629\" xlink:href=\"#mf1a946131d\" y=\"121.154489\"/>\n      </g>\n     </g>\n    </g>\n    <g id=\"xtick_8\">\n     <g id=\"line2d_10\">\n      <g>\n       <use style=\"stroke:#000000;stroke-width:0.8;\" x=\"286.386328\" xlink:href=\"#mf1a946131d\" y=\"121.154489\"/>\n      </g>\n     </g>\n    </g>\n    <g id=\"xtick_9\">\n     <g id=\"line2d_11\">\n      <g>\n       <use style=\"stroke:#000000;stroke-width:0.8;\" x=\"320.946027\" xlink:href=\"#mf1a946131d\" y=\"121.154489\"/>\n      </g>\n     </g>\n    </g>\n    <g id=\"xtick_10\">\n     <g id=\"line2d_12\">\n      <g>\n       <use style=\"stroke:#000000;stroke-width:0.8;\" x=\"355.505726\" xlink:href=\"#mf1a946131d\" y=\"121.154489\"/>\n      </g>\n     </g>\n    </g>\n   </g>\n   <g id=\"matplotlib.axis_4\">\n    <g id=\"ytick_3\">\n     <g id=\"line2d_13\">\n      <g>\n       <use style=\"stroke:#000000;stroke-width:0.8;\" x=\"209.543182\" xlink:href=\"#me70517e84f\" y=\"86.711513\"/>\n      </g>\n     </g>\n     <g id=\"text_4\">\n      <!-- 20 -->\n      <g transform=\"translate(189.818182 90.510732)scale(0.1 -0.1)\">\n       <use xlink:href=\"#DejaVuSans-50\"/>\n       <use x=\"63.623047\" xlink:href=\"#DejaVuSans-48\"/>\n      </g>\n     </g>\n    </g>\n    <g id=\"ytick_4\">\n     <g id=\"line2d_14\">\n      <g>\n       <use style=\"stroke:#000000;stroke-width:0.8;\" x=\"209.543182\" xlink:href=\"#me70517e84f\" y=\"46.777629\"/>\n      </g>\n     </g>\n     <g id=\"text_5\">\n      <!-- 40 -->\n      <g transform=\"translate(189.818182 50.576848)scale(0.1 -0.1)\">\n       <use xlink:href=\"#DejaVuSans-52\"/>\n       <use x=\"63.623047\" xlink:href=\"#DejaVuSans-48\"/>\n      </g>\n     </g>\n    </g>\n   </g>\n   <g id=\"patch_8\">\n    <path d=\"M 209.543182 121.154489 \nL 209.543182 22.318125 \n\" style=\"fill:none;stroke:#000000;stroke-linecap:square;stroke-linejoin:miter;stroke-width:0.8;\"/>\n   </g>\n   <g id=\"patch_9\">\n    <path d=\"M 361.725 121.154489 \nL 361.725 22.318125 \n\" style=\"fill:none;stroke:#000000;stroke-linecap:square;stroke-linejoin:miter;stroke-width:0.8;\"/>\n   </g>\n   <g id=\"patch_10\">\n    <path d=\"M 209.543182 121.154489 \nL 361.725 121.154489 \n\" style=\"fill:none;stroke:#000000;stroke-linecap:square;stroke-linejoin:miter;stroke-width:0.8;\"/>\n   </g>\n   <g id=\"patch_11\">\n    <path d=\"M 209.543182 22.318125 \nL 361.725 22.318125 \n\" style=\"fill:none;stroke:#000000;stroke-linecap:square;stroke-linejoin:miter;stroke-width:0.8;\"/>\n   </g>\n   <g id=\"text_6\">\n    <!-- linear regression -->\n    <g transform=\"translate(235.507841 16.318125)scale(0.12 -0.12)\">\n     <defs>\n      <path d=\"M 9.421875 75.984375 \nL 18.40625 75.984375 \nL 18.40625 0 \nL 9.421875 0 \nz\n\" id=\"DejaVuSans-108\"/>\n      <path d=\"M 9.421875 54.6875 \nL 18.40625 54.6875 \nL 18.40625 0 \nL 9.421875 0 \nz\nM 9.421875 75.984375 \nL 18.40625 75.984375 \nL 18.40625 64.59375 \nL 9.421875 64.59375 \nz\n\" id=\"DejaVuSans-105\"/>\n      <path d=\"M 54.890625 33.015625 \nL 54.890625 0 \nL 45.90625 0 \nL 45.90625 32.71875 \nQ 45.90625 40.484375 42.875 44.328125 \nQ 39.84375 48.1875 33.796875 48.1875 \nQ 26.515625 48.1875 22.3125 43.546875 \nQ 18.109375 38.921875 18.109375 30.90625 \nL 18.109375 0 \nL 9.078125 0 \nL 9.078125 54.6875 \nL 18.109375 54.6875 \nL 18.109375 46.1875 \nQ 21.34375 51.125 25.703125 53.5625 \nQ 30.078125 56 35.796875 56 \nQ 45.21875 56 50.046875 50.171875 \nQ 54.890625 44.34375 54.890625 33.015625 \nz\n\" id=\"DejaVuSans-110\"/>\n      <path d=\"M 44.28125 53.078125 \nL 44.28125 44.578125 \nQ 40.484375 46.53125 36.375 47.5 \nQ 32.28125 48.484375 27.875 48.484375 \nQ 21.1875 48.484375 17.84375 46.4375 \nQ 14.5 44.390625 14.5 40.28125 \nQ 14.5 37.15625 16.890625 35.375 \nQ 19.28125 33.59375 26.515625 31.984375 \nL 29.59375 31.296875 \nQ 39.15625 29.25 43.1875 25.515625 \nQ 47.21875 21.78125 47.21875 15.09375 \nQ 47.21875 7.46875 41.1875 3.015625 \nQ 35.15625 -1.421875 24.609375 -1.421875 \nQ 20.21875 -1.421875 15.453125 -0.5625 \nQ 10.6875 0.296875 5.421875 2 \nL 5.421875 11.28125 \nQ 10.40625 8.6875 15.234375 7.390625 \nQ 20.0625 6.109375 24.8125 6.109375 \nQ 31.15625 6.109375 34.5625 8.28125 \nQ 37.984375 10.453125 37.984375 14.40625 \nQ 37.984375 18.0625 35.515625 20.015625 \nQ 33.0625 21.96875 24.703125 23.78125 \nL 21.578125 24.515625 \nQ 13.234375 26.265625 9.515625 29.90625 \nQ 5.8125 33.546875 5.8125 39.890625 \nQ 5.8125 47.609375 11.28125 51.796875 \nQ 16.75 56 26.8125 56 \nQ 31.78125 56 36.171875 55.265625 \nQ 40.578125 54.546875 44.28125 53.078125 \nz\n\" id=\"DejaVuSans-115\"/>\n      <path d=\"M 30.609375 48.390625 \nQ 23.390625 48.390625 19.1875 42.75 \nQ 14.984375 37.109375 14.984375 27.296875 \nQ 14.984375 17.484375 19.15625 11.84375 \nQ 23.34375 6.203125 30.609375 6.203125 \nQ 37.796875 6.203125 41.984375 11.859375 \nQ 46.1875 17.53125 46.1875 27.296875 \nQ 46.1875 37.015625 41.984375 42.703125 \nQ 37.796875 48.390625 30.609375 48.390625 \nz\nM 30.609375 56 \nQ 42.328125 56 49.015625 48.375 \nQ 55.71875 40.765625 55.71875 27.296875 \nQ 55.71875 13.875 49.015625 6.21875 \nQ 42.328125 -1.421875 30.609375 -1.421875 \nQ 18.84375 -1.421875 12.171875 6.21875 \nQ 5.515625 13.875 5.515625 27.296875 \nQ 5.515625 40.765625 12.171875 48.375 \nQ 18.84375 56 30.609375 56 \nz\n\" id=\"DejaVuSans-111\"/>\n     </defs>\n     <use xlink:href=\"#DejaVuSans-108\"/>\n     <use x=\"27.783203\" xlink:href=\"#DejaVuSans-105\"/>\n     <use x=\"55.566406\" xlink:href=\"#DejaVuSans-110\"/>\n     <use x=\"118.945312\" xlink:href=\"#DejaVuSans-101\"/>\n     <use x=\"180.46875\" xlink:href=\"#DejaVuSans-97\"/>\n     <use x=\"241.748047\" xlink:href=\"#DejaVuSans-114\"/>\n     <use x=\"282.861328\" xlink:href=\"#DejaVuSans-32\"/>\n     <use x=\"314.648438\" xlink:href=\"#DejaVuSans-114\"/>\n     <use x=\"353.511719\" xlink:href=\"#DejaVuSans-101\"/>\n     <use x=\"415.035156\" xlink:href=\"#DejaVuSans-103\"/>\n     <use x=\"478.511719\" xlink:href=\"#DejaVuSans-114\"/>\n     <use x=\"517.375\" xlink:href=\"#DejaVuSans-101\"/>\n     <use x=\"578.898438\" xlink:href=\"#DejaVuSans-115\"/>\n     <use x=\"630.998047\" xlink:href=\"#DejaVuSans-115\"/>\n     <use x=\"683.097656\" xlink:href=\"#DejaVuSans-105\"/>\n     <use x=\"710.880859\" xlink:href=\"#DejaVuSans-111\"/>\n     <use x=\"772.0625\" xlink:href=\"#DejaVuSans-110\"/>\n    </g>\n   </g>\n  </g>\n  <g id=\"axes_3\">\n   <g id=\"patch_12\">\n    <path d=\"M 26.925 239.758125 \nL 179.106818 239.758125 \nL 179.106818 140.921761 \nL 26.925 140.921761 \nz\n\" style=\"fill:#ffffff;\"/>\n   </g>\n   <g id=\"PathCollection_3\">\n    <g clip-path=\"url(#p4db55a0eba)\">\n     <use style=\"fill:#1f77b4;stroke:#1f77b4;\" x=\"93.227438\" xlink:href=\"#md1f90519ab\" y=\"198.127051\"/>\n     <use style=\"fill:#1f77b4;stroke:#1f77b4;\" x=\"111.42888\" xlink:href=\"#md1f90519ab\" y=\"180.556142\"/>\n     <use style=\"fill:#1f77b4;stroke:#1f77b4;\" x=\"53.022988\" xlink:href=\"#md1f90519ab\" y=\"218.093993\"/>\n     <use style=\"fill:#1f77b4;stroke:#1f77b4;\" x=\"82.456332\" xlink:href=\"#md1f90519ab\" y=\"199.724406\"/>\n     <use style=\"fill:#1f77b4;stroke:#1f77b4;\" x=\"58.091744\" xlink:href=\"#md1f90519ab\" y=\"213.102257\"/>\n     <use style=\"fill:#1f77b4;stroke:#1f77b4;\" x=\"77.157178\" xlink:href=\"#md1f90519ab\" y=\"205.31515\"/>\n     <use style=\"fill:#1f77b4;stroke:#1f77b4;\" x=\"71.22443\" xlink:href=\"#md1f90519ab\" y=\"209.707877\"/>\n     <use style=\"fill:#1f77b4;stroke:#1f77b4;\" x=\"59.877329\" xlink:href=\"#md1f90519ab\" y=\"217.295315\"/>\n     <use style=\"fill:#1f77b4;stroke:#1f77b4;\" x=\"59.358933\" xlink:href=\"#md1f90519ab\" y=\"206.113827\"/>\n     <use style=\"fill:#1f77b4;stroke:#1f77b4;\" x=\"67.422863\" xlink:href=\"#md1f90519ab\" y=\"211.704571\"/>\n     <use style=\"fill:#1f77b4;stroke:#1f77b4;\" x=\"80.38275\" xlink:href=\"#md1f90519ab\" y=\"202.320108\"/>\n     <use style=\"fill:#1f77b4;stroke:#1f77b4;\" x=\"70.418037\" xlink:href=\"#md1f90519ab\" y=\"207.511513\"/>\n     <use style=\"fill:#1f77b4;stroke:#1f77b4;\" x=\"40.120701\" xlink:href=\"#md1f90519ab\" y=\"231.272175\"/>\n     <use style=\"fill:#1f77b4;stroke:#1f77b4;\" x=\"78.481967\" xlink:href=\"#md1f90519ab\" y=\"202.919117\"/>\n     <use style=\"fill:#1f77b4;stroke:#1f77b4;\" x=\"64.197291\" xlink:href=\"#md1f90519ab\" y=\"208.310191\"/>\n     <use style=\"fill:#1f77b4;stroke:#1f77b4;\" x=\"67.192465\" xlink:href=\"#md1f90519ab\" y=\"185.747546\"/>\n     <use style=\"fill:#1f77b4;stroke:#1f77b4;\" x=\"67.595661\" xlink:href=\"#md1f90519ab\" y=\"207.711183\"/>\n     <use style=\"fill:#1f77b4;stroke:#1f77b4;\" x=\"35.051945\" xlink:href=\"#md1f90519ab\" y=\"224.882753\"/>\n     <use style=\"fill:#1f77b4;stroke:#1f77b4;\" x=\"124.907162\" xlink:href=\"#md1f90519ab\" y=\"145.414323\"/>\n     <use style=\"fill:#1f77b4;stroke:#1f77b4;\" x=\"47.723834\" xlink:href=\"#md1f90519ab\" y=\"217.095646\"/>\n     <use style=\"fill:#1f77b4;stroke:#1f77b4;\" x=\"84.357115\" xlink:href=\"#md1f90519ab\" y=\"194.93234\"/>\n     <use style=\"fill:#1f77b4;stroke:#1f77b4;\" x=\"89.137874\" xlink:href=\"#md1f90519ab\" y=\"187.145232\"/>\n     <use style=\"fill:#1f77b4;stroke:#1f77b4;\" x=\"54.117379\" xlink:href=\"#md1f90519ab\" y=\"219.891018\"/>\n     <use style=\"fill:#1f77b4;stroke:#1f77b4;\" x=\"71.800425\" xlink:href=\"#md1f90519ab\" y=\"200.523084\"/>\n     <use style=\"fill:#1f77b4;stroke:#1f77b4;\" x=\"53.656583\" xlink:href=\"#md1f90519ab\" y=\"216.895976\"/>\n     <use style=\"fill:#1f77b4;stroke:#1f77b4;\" x=\"77.214778\" xlink:href=\"#md1f90519ab\" y=\"217.694654\"/>\n     <use style=\"fill:#1f77b4;stroke:#1f77b4;\" x=\"84.126717\" xlink:href=\"#md1f90519ab\" y=\"204.716142\"/>\n     <use style=\"fill:#1f77b4;stroke:#1f77b4;\" x=\"44.267865\" xlink:href=\"#md1f90519ab\" y=\"215.49829\"/>\n     <use style=\"fill:#1f77b4;stroke:#1f77b4;\" x=\"76.235586\" xlink:href=\"#md1f90519ab\" y=\"201.92077\"/>\n     <use style=\"fill:#1f77b4;stroke:#1f77b4;\" x=\"69.496445\" xlink:href=\"#md1f90519ab\" y=\"208.70953\"/>\n     <use style=\"fill:#1f77b4;stroke:#1f77b4;\" x=\"81.995536\" xlink:href=\"#md1f90519ab\" y=\"199.125398\"/>\n     <use style=\"fill:#1f77b4;stroke:#1f77b4;\" x=\"81.707538\" xlink:href=\"#md1f90519ab\" y=\"197.727712\"/>\n     <use style=\"fill:#1f77b4;stroke:#1f77b4;\" x=\"47.608635\" xlink:href=\"#md1f90519ab\" y=\"215.298621\"/>\n     <use style=\"fill:#1f77b4;stroke:#1f77b4;\" x=\"45.189457\" xlink:href=\"#md1f90519ab\" y=\"203.717794\"/>\n     <use style=\"fill:#1f77b4;stroke:#1f77b4;\" x=\"55.384568\" xlink:href=\"#md1f90519ab\" y=\"207.112175\"/>\n     <use style=\"fill:#1f77b4;stroke:#1f77b4;\" x=\"58.55254\" xlink:href=\"#md1f90519ab\" y=\"206.513166\"/>\n     <use style=\"fill:#1f77b4;stroke:#1f77b4;\" x=\"109.297698\" xlink:href=\"#md1f90519ab\" y=\"175.963745\"/>\n     <use style=\"fill:#1f77b4;stroke:#1f77b4;\" x=\"69.266047\" xlink:href=\"#md1f90519ab\" y=\"206.313497\"/>\n     <use style=\"fill:#1f77b4;stroke:#1f77b4;\" x=\"76.408385\" xlink:href=\"#md1f90519ab\" y=\"196.529695\"/>\n     <use style=\"fill:#1f77b4;stroke:#1f77b4;\" x=\"82.68673\" xlink:href=\"#md1f90519ab\" y=\"198.526389\"/>\n     <use style=\"fill:#1f77b4;stroke:#1f77b4;\" x=\"67.134865\" xlink:href=\"#md1f90519ab\" y=\"205.914158\"/>\n     <use style=\"fill:#1f77b4;stroke:#1f77b4;\" x=\"102.731355\" xlink:href=\"#md1f90519ab\" y=\"188.942257\"/>\n     <use style=\"fill:#1f77b4;stroke:#1f77b4;\" x=\"124.907162\" xlink:href=\"#md1f90519ab\" y=\"145.414323\"/>\n     <use style=\"fill:#1f77b4;stroke:#1f77b4;\" x=\"72.434019\" xlink:href=\"#md1f90519ab\" y=\"210.506555\"/>\n     <use style=\"fill:#1f77b4;stroke:#1f77b4;\" x=\"93.515436\" xlink:href=\"#md1f90519ab\" y=\"200.123745\"/>\n     <use style=\"fill:#1f77b4;stroke:#1f77b4;\" x=\"40.523897\" xlink:href=\"#md1f90519ab\" y=\"215.098951\"/>\n     <use style=\"fill:#1f77b4;stroke:#1f77b4;\" x=\"54.117379\" xlink:href=\"#md1f90519ab\" y=\"219.09234\"/>\n     <use style=\"fill:#1f77b4;stroke:#1f77b4;\" x=\"84.760312\" xlink:href=\"#md1f90519ab\" y=\"196.929034\"/>\n     <use style=\"fill:#1f77b4;stroke:#1f77b4;\" x=\"57.45815\" xlink:href=\"#md1f90519ab\" y=\"205.514819\"/>\n     <use style=\"fill:#1f77b4;stroke:#1f77b4;\" x=\"87.064292\" xlink:href=\"#md1f90519ab\" y=\"197.328373\"/>\n     <use style=\"fill:#1f77b4;stroke:#1f77b4;\" x=\"70.418037\" xlink:href=\"#md1f90519ab\" y=\"207.511513\"/>\n     <use style=\"fill:#1f77b4;stroke:#1f77b4;\" x=\"96.971406\" xlink:href=\"#md1f90519ab\" y=\"174.566059\"/>\n     <use style=\"fill:#1f77b4;stroke:#1f77b4;\" x=\"55.499767\" xlink:href=\"#md1f90519ab\" y=\"214.899282\"/>\n     <use style=\"fill:#1f77b4;stroke:#1f77b4;\" x=\"73.816407\" xlink:href=\"#md1f90519ab\" y=\"192.336637\"/>\n     <use style=\"fill:#1f77b4;stroke:#1f77b4;\" x=\"129.74552\" xlink:href=\"#md1f90519ab\" y=\"158.392836\"/>\n     <use style=\"fill:#1f77b4;stroke:#1f77b4;\" x=\"75.313994\" xlink:href=\"#md1f90519ab\" y=\"202.919117\"/>\n     <use style=\"fill:#1f77b4;stroke:#1f77b4;\" x=\"51.928598\" xlink:href=\"#md1f90519ab\" y=\"208.509861\"/>\n     <use style=\"fill:#1f77b4;stroke:#1f77b4;\" x=\"114.596852\" xlink:href=\"#md1f90519ab\" y=\"188.343249\"/>\n     <use style=\"fill:#1f77b4;stroke:#1f77b4;\" x=\"86.603496\" xlink:href=\"#md1f90519ab\" y=\"197.528042\"/>\n     <use style=\"fill:#1f77b4;stroke:#1f77b4;\" x=\"66.098074\" xlink:href=\"#md1f90519ab\" y=\"208.310191\"/>\n     <use style=\"fill:#1f77b4;stroke:#1f77b4;\" x=\"83.550722\" xlink:href=\"#md1f90519ab\" y=\"195.331679\"/>\n     <use style=\"fill:#1f77b4;stroke:#1f77b4;\" x=\"99.332985\" xlink:href=\"#md1f90519ab\" y=\"174.566059\"/>\n     <use style=\"fill:#1f77b4;stroke:#1f77b4;\" x=\"87.870685\" xlink:href=\"#md1f90519ab\" y=\"182.353166\"/>\n     <use style=\"fill:#1f77b4;stroke:#1f77b4;\" x=\"73.874007\" xlink:href=\"#md1f90519ab\" y=\"204.915811\"/>\n     <use style=\"fill:#1f77b4;stroke:#1f77b4;\" x=\"78.424367\" xlink:href=\"#md1f90519ab\" y=\"197.128704\"/>\n     <use style=\"fill:#1f77b4;stroke:#1f77b4;\" x=\"75.198795\" xlink:href=\"#md1f90519ab\" y=\"205.31515\"/>\n     <use style=\"fill:#1f77b4;stroke:#1f77b4;\" x=\"45.707852\" xlink:href=\"#md1f90519ab\" y=\"219.09234\"/>\n     <use style=\"fill:#1f77b4;stroke:#1f77b4;\" x=\"79.576357\" xlink:href=\"#md1f90519ab\" y=\"195.731018\"/>\n     <use style=\"fill:#1f77b4;stroke:#1f77b4;\" x=\"106.014527\" xlink:href=\"#md1f90519ab\" y=\"183.750852\"/>\n     <use style=\"fill:#1f77b4;stroke:#1f77b4;\" x=\"67.941258\" xlink:href=\"#md1f90519ab\" y=\"219.891018\"/>\n     <use style=\"fill:#1f77b4;stroke:#1f77b4;\" x=\"74.910798\" xlink:href=\"#md1f90519ab\" y=\"205.31515\"/>\n     <use style=\"fill:#1f77b4;stroke:#1f77b4;\" x=\"69.726843\" xlink:href=\"#md1f90519ab\" y=\"197.927381\"/>\n     <use style=\"fill:#1f77b4;stroke:#1f77b4;\" x=\"36.146335\" xlink:href=\"#md1f90519ab\" y=\"223.684737\"/>\n     <use style=\"fill:#1f77b4;stroke:#1f77b4;\" x=\"71.282029\" xlink:href=\"#md1f90519ab\" y=\"204.117133\"/>\n     <use style=\"fill:#1f77b4;stroke:#1f77b4;\" x=\"81.592339\" xlink:href=\"#md1f90519ab\" y=\"203.717794\"/>\n     <use style=\"fill:#1f77b4;stroke:#1f77b4;\" x=\"37.298325\" xlink:href=\"#md1f90519ab\" y=\"235.265563\"/>\n     <use style=\"fill:#1f77b4;stroke:#1f77b4;\" x=\"67.480462\" xlink:href=\"#md1f90519ab\" y=\"205.11548\"/>\n     <use style=\"fill:#1f77b4;stroke:#1f77b4;\" x=\"124.907162\" xlink:href=\"#md1f90519ab\" y=\"148.409365\"/>\n     <use style=\"fill:#1f77b4;stroke:#1f77b4;\" x=\"38.623114\" xlink:href=\"#md1f90519ab\" y=\"223.485067\"/>\n     <use style=\"fill:#1f77b4;stroke:#1f77b4;\" x=\"51.6406\" xlink:href=\"#md1f90519ab\" y=\"231.272175\"/>\n     <use style=\"fill:#1f77b4;stroke:#1f77b4;\" x=\"73.52841\" xlink:href=\"#md1f90519ab\" y=\"203.518125\"/>\n     <use style=\"fill:#1f77b4;stroke:#1f77b4;\" x=\"55.499767\" xlink:href=\"#md1f90519ab\" y=\"210.905894\"/>\n     <use style=\"fill:#1f77b4;stroke:#1f77b4;\" x=\"77.099579\" xlink:href=\"#md1f90519ab\" y=\"203.518125\"/>\n     <use style=\"fill:#1f77b4;stroke:#1f77b4;\" x=\"48.472628\" xlink:href=\"#md1f90519ab\" y=\"225.8811\"/>\n     <use style=\"fill:#1f77b4;stroke:#1f77b4;\" x=\"68.574853\" xlink:href=\"#md1f90519ab\" y=\"206.513166\"/>\n     <use style=\"fill:#1f77b4;stroke:#1f77b4;\" x=\"84.414715\" xlink:href=\"#md1f90519ab\" y=\"187.344902\"/>\n     <use style=\"fill:#1f77b4;stroke:#1f77b4;\" x=\"54.750973\" xlink:href=\"#md1f90519ab\" y=\"212.503249\"/>\n     <use style=\"fill:#1f77b4;stroke:#1f77b4;\" x=\"79.23076\" xlink:href=\"#md1f90519ab\" y=\"195.331679\"/>\n     <use style=\"fill:#1f77b4;stroke:#1f77b4;\" x=\"83.089926\" xlink:href=\"#md1f90519ab\" y=\"195.331679\"/>\n     <use style=\"fill:#1f77b4;stroke:#1f77b4;\" x=\"59.877329\" xlink:href=\"#md1f90519ab\" y=\"211.105563\"/>\n     <use style=\"fill:#1f77b4;stroke:#1f77b4;\" x=\"84.817911\" xlink:href=\"#md1f90519ab\" y=\"198.925728\"/>\n     <use style=\"fill:#1f77b4;stroke:#1f77b4;\" x=\"33.842355\" xlink:href=\"#md1f90519ab\" y=\"224.483414\"/>\n     <use style=\"fill:#1f77b4;stroke:#1f77b4;\" x=\"59.877329\" xlink:href=\"#md1f90519ab\" y=\"206.113827\"/>\n     <use style=\"fill:#1f77b4;stroke:#1f77b4;\" x=\"70.878833\" xlink:href=\"#md1f90519ab\" y=\"210.905894\"/>\n     <use style=\"fill:#1f77b4;stroke:#1f77b4;\" x=\"53.829381\" xlink:href=\"#md1f90519ab\" y=\"190.339943\"/>\n     <use style=\"fill:#1f77b4;stroke:#1f77b4;\" x=\"62.814903\" xlink:href=\"#md1f90519ab\" y=\"199.325067\"/>\n     <use style=\"fill:#1f77b4;stroke:#1f77b4;\" x=\"44.267865\" xlink:href=\"#md1f90519ab\" y=\"145.414323\"/>\n     <use style=\"fill:#1f77b4;stroke:#1f77b4;\" x=\"40.869494\" xlink:href=\"#md1f90519ab\" y=\"209.508208\"/>\n     <use style=\"fill:#1f77b4;stroke:#1f77b4;\" x=\"40.120701\" xlink:href=\"#md1f90519ab\" y=\"226.08077\"/>\n     <use style=\"fill:#1f77b4;stroke:#1f77b4;\" x=\"60.453324\" xlink:href=\"#md1f90519ab\" y=\"210.905894\"/>\n     <use style=\"fill:#1f77b4;stroke:#1f77b4;\" x=\"74.277203\" xlink:href=\"#md1f90519ab\" y=\"200.323414\"/>\n     <use style=\"fill:#1f77b4;stroke:#1f77b4;\" x=\"81.880337\" xlink:href=\"#md1f90519ab\" y=\"202.519778\"/>\n    </g>\n   </g>\n   <g id=\"matplotlib.axis_5\">\n    <g id=\"xtick_11\">\n     <g id=\"line2d_15\">\n      <g>\n       <use style=\"stroke:#000000;stroke-width:0.8;\" x=\"34.648748\" xlink:href=\"#mf1a946131d\" y=\"239.758125\"/>\n      </g>\n     </g>\n     <g id=\"text_7\">\n      <!-- 10 -->\n      <g transform=\"translate(28.286248 254.356562)scale(0.1 -0.1)\">\n       <defs>\n        <path d=\"M 12.40625 8.296875 \nL 28.515625 8.296875 \nL 28.515625 63.921875 \nL 10.984375 60.40625 \nL 10.984375 69.390625 \nL 28.421875 72.90625 \nL 38.28125 72.90625 \nL 38.28125 8.296875 \nL 54.390625 8.296875 \nL 54.390625 0 \nL 12.40625 0 \nz\n\" id=\"DejaVuSans-49\"/>\n       </defs>\n       <use xlink:href=\"#DejaVuSans-49\"/>\n       <use x=\"63.623047\" xlink:href=\"#DejaVuSans-48\"/>\n      </g>\n     </g>\n    </g>\n    <g id=\"xtick_12\">\n     <g id=\"line2d_16\">\n      <g>\n       <use style=\"stroke:#000000;stroke-width:0.8;\" x=\"69.208447\" xlink:href=\"#mf1a946131d\" y=\"239.758125\"/>\n      </g>\n     </g>\n     <g id=\"text_8\">\n      <!-- 20 -->\n      <g transform=\"translate(62.845947 254.356562)scale(0.1 -0.1)\">\n       <use xlink:href=\"#DejaVuSans-50\"/>\n       <use x=\"63.623047\" xlink:href=\"#DejaVuSans-48\"/>\n      </g>\n     </g>\n    </g>\n    <g id=\"xtick_13\">\n     <g id=\"line2d_17\">\n      <g>\n       <use style=\"stroke:#000000;stroke-width:0.8;\" x=\"103.768146\" xlink:href=\"#mf1a946131d\" y=\"239.758125\"/>\n      </g>\n     </g>\n     <g id=\"text_9\">\n      <!-- 30 -->\n      <g transform=\"translate(97.405646 254.356562)scale(0.1 -0.1)\">\n       <defs>\n        <path d=\"M 40.578125 39.3125 \nQ 47.65625 37.796875 51.625 33 \nQ 55.609375 28.21875 55.609375 21.1875 \nQ 55.609375 10.40625 48.1875 4.484375 \nQ 40.765625 -1.421875 27.09375 -1.421875 \nQ 22.515625 -1.421875 17.65625 -0.515625 \nQ 12.796875 0.390625 7.625 2.203125 \nL 7.625 11.71875 \nQ 11.71875 9.328125 16.59375 8.109375 \nQ 21.484375 6.890625 26.8125 6.890625 \nQ 36.078125 6.890625 40.9375 10.546875 \nQ 45.796875 14.203125 45.796875 21.1875 \nQ 45.796875 27.640625 41.28125 31.265625 \nQ 36.765625 34.90625 28.71875 34.90625 \nL 20.21875 34.90625 \nL 20.21875 43.015625 \nL 29.109375 43.015625 \nQ 36.375 43.015625 40.234375 45.921875 \nQ 44.09375 48.828125 44.09375 54.296875 \nQ 44.09375 59.90625 40.109375 62.90625 \nQ 36.140625 65.921875 28.71875 65.921875 \nQ 24.65625 65.921875 20.015625 65.03125 \nQ 15.375 64.15625 9.8125 62.3125 \nL 9.8125 71.09375 \nQ 15.4375 72.65625 20.34375 73.4375 \nQ 25.25 74.21875 29.59375 74.21875 \nQ 40.828125 74.21875 47.359375 69.109375 \nQ 53.90625 64.015625 53.90625 55.328125 \nQ 53.90625 49.265625 50.4375 45.09375 \nQ 46.96875 40.921875 40.578125 39.3125 \nz\n\" id=\"DejaVuSans-51\"/>\n       </defs>\n       <use xlink:href=\"#DejaVuSans-51\"/>\n       <use x=\"63.623047\" xlink:href=\"#DejaVuSans-48\"/>\n      </g>\n     </g>\n    </g>\n    <g id=\"xtick_14\">\n     <g id=\"line2d_18\">\n      <g>\n       <use style=\"stroke:#000000;stroke-width:0.8;\" x=\"138.327845\" xlink:href=\"#mf1a946131d\" y=\"239.758125\"/>\n      </g>\n     </g>\n     <g id=\"text_10\">\n      <!-- 40 -->\n      <g transform=\"translate(131.965345 254.356562)scale(0.1 -0.1)\">\n       <use xlink:href=\"#DejaVuSans-52\"/>\n       <use x=\"63.623047\" xlink:href=\"#DejaVuSans-48\"/>\n      </g>\n     </g>\n    </g>\n    <g id=\"xtick_15\">\n     <g id=\"line2d_19\">\n      <g>\n       <use style=\"stroke:#000000;stroke-width:0.8;\" x=\"172.887544\" xlink:href=\"#mf1a946131d\" y=\"239.758125\"/>\n      </g>\n     </g>\n     <g id=\"text_11\">\n      <!-- 50 -->\n      <g transform=\"translate(166.525044 254.356562)scale(0.1 -0.1)\">\n       <defs>\n        <path d=\"M 10.796875 72.90625 \nL 49.515625 72.90625 \nL 49.515625 64.59375 \nL 19.828125 64.59375 \nL 19.828125 46.734375 \nQ 21.96875 47.46875 24.109375 47.828125 \nQ 26.265625 48.1875 28.421875 48.1875 \nQ 40.625 48.1875 47.75 41.5 \nQ 54.890625 34.8125 54.890625 23.390625 \nQ 54.890625 11.625 47.5625 5.09375 \nQ 40.234375 -1.421875 26.90625 -1.421875 \nQ 22.3125 -1.421875 17.546875 -0.640625 \nQ 12.796875 0.140625 7.71875 1.703125 \nL 7.71875 11.625 \nQ 12.109375 9.234375 16.796875 8.0625 \nQ 21.484375 6.890625 26.703125 6.890625 \nQ 35.15625 6.890625 40.078125 11.328125 \nQ 45.015625 15.765625 45.015625 23.390625 \nQ 45.015625 31 40.078125 35.4375 \nQ 35.15625 39.890625 26.703125 39.890625 \nQ 22.75 39.890625 18.8125 39.015625 \nQ 14.890625 38.140625 10.796875 36.28125 \nz\n\" id=\"DejaVuSans-53\"/>\n       </defs>\n       <use xlink:href=\"#DejaVuSans-53\"/>\n       <use x=\"63.623047\" xlink:href=\"#DejaVuSans-48\"/>\n      </g>\n     </g>\n    </g>\n   </g>\n   <g id=\"matplotlib.axis_6\">\n    <g id=\"ytick_5\">\n     <g id=\"line2d_20\">\n      <g>\n       <use style=\"stroke:#000000;stroke-width:0.8;\" x=\"26.925\" xlink:href=\"#me70517e84f\" y=\"205.31515\"/>\n      </g>\n     </g>\n     <g id=\"text_12\">\n      <!-- 20 -->\n      <g transform=\"translate(7.2 209.114369)scale(0.1 -0.1)\">\n       <use xlink:href=\"#DejaVuSans-50\"/>\n       <use x=\"63.623047\" xlink:href=\"#DejaVuSans-48\"/>\n      </g>\n     </g>\n    </g>\n    <g id=\"ytick_6\">\n     <g id=\"line2d_21\">\n      <g>\n       <use style=\"stroke:#000000;stroke-width:0.8;\" x=\"26.925\" xlink:href=\"#me70517e84f\" y=\"165.381265\"/>\n      </g>\n     </g>\n     <g id=\"text_13\">\n      <!-- 40 -->\n      <g transform=\"translate(7.2 169.180484)scale(0.1 -0.1)\">\n       <use xlink:href=\"#DejaVuSans-52\"/>\n       <use x=\"63.623047\" xlink:href=\"#DejaVuSans-48\"/>\n      </g>\n     </g>\n    </g>\n   </g>\n   <g id=\"patch_13\">\n    <path d=\"M 26.925 239.758125 \nL 26.925 140.921761 \n\" style=\"fill:none;stroke:#000000;stroke-linecap:square;stroke-linejoin:miter;stroke-width:0.8;\"/>\n   </g>\n   <g id=\"patch_14\">\n    <path d=\"M 179.106818 239.758125 \nL 179.106818 140.921761 \n\" style=\"fill:none;stroke:#000000;stroke-linecap:square;stroke-linejoin:miter;stroke-width:0.8;\"/>\n   </g>\n   <g id=\"patch_15\">\n    <path d=\"M 26.925 239.758125 \nL 179.106818 239.758125 \n\" style=\"fill:none;stroke:#000000;stroke-linecap:square;stroke-linejoin:miter;stroke-width:0.8;\"/>\n   </g>\n   <g id=\"patch_16\">\n    <path d=\"M 26.925 140.921761 \nL 179.106818 140.921761 \n\" style=\"fill:none;stroke:#000000;stroke-linecap:square;stroke-linejoin:miter;stroke-width:0.8;\"/>\n   </g>\n   <g id=\"text_14\">\n    <!-- KNN -->\n    <g transform=\"translate(90.103722 134.921761)scale(0.12 -0.12)\">\n     <defs>\n      <path d=\"M 9.8125 72.90625 \nL 19.671875 72.90625 \nL 19.671875 42.09375 \nL 52.390625 72.90625 \nL 65.09375 72.90625 \nL 28.90625 38.921875 \nL 67.671875 0 \nL 54.6875 0 \nL 19.671875 35.109375 \nL 19.671875 0 \nL 9.8125 0 \nz\n\" id=\"DejaVuSans-75\"/>\n      <path d=\"M 9.8125 72.90625 \nL 23.09375 72.90625 \nL 55.421875 11.921875 \nL 55.421875 72.90625 \nL 64.984375 72.90625 \nL 64.984375 0 \nL 51.703125 0 \nL 19.390625 60.984375 \nL 19.390625 0 \nL 9.8125 0 \nz\n\" id=\"DejaVuSans-78\"/>\n     </defs>\n     <use xlink:href=\"#DejaVuSans-75\"/>\n     <use x=\"65.576172\" xlink:href=\"#DejaVuSans-78\"/>\n     <use x=\"140.380859\" xlink:href=\"#DejaVuSans-78\"/>\n    </g>\n   </g>\n  </g>\n  <g id=\"axes_4\">\n   <g id=\"patch_17\">\n    <path d=\"M 209.543182 239.758125 \nL 361.725 239.758125 \nL 361.725 140.921761 \nL 209.543182 140.921761 \nz\n\" style=\"fill:#ffffff;\"/>\n   </g>\n   <g id=\"PathCollection_4\">\n    <g clip-path=\"url(#p8d47b0482f)\">\n     <use style=\"fill:#1f77b4;stroke:#1f77b4;\" x=\"269.158856\" xlink:href=\"#md1f90519ab\" y=\"198.127051\"/>\n     <use style=\"fill:#1f77b4;stroke:#1f77b4;\" x=\"285.768429\" xlink:href=\"#md1f90519ab\" y=\"180.556142\"/>\n     <use style=\"fill:#1f77b4;stroke:#1f77b4;\" x=\"254.644484\" xlink:href=\"#md1f90519ab\" y=\"218.093993\"/>\n     <use style=\"fill:#1f77b4;stroke:#1f77b4;\" x=\"266.01008\" xlink:href=\"#md1f90519ab\" y=\"199.724406\"/>\n     <use style=\"fill:#1f77b4;stroke:#1f77b4;\" x=\"257.176991\" xlink:href=\"#md1f90519ab\" y=\"213.102257\"/>\n     <use style=\"fill:#1f77b4;stroke:#1f77b4;\" x=\"265.981288\" xlink:href=\"#md1f90519ab\" y=\"205.31515\"/>\n     <use style=\"fill:#1f77b4;stroke:#1f77b4;\" x=\"259.028439\" xlink:href=\"#md1f90519ab\" y=\"209.707877\"/>\n     <use style=\"fill:#1f77b4;stroke:#1f77b4;\" x=\"253.087824\" xlink:href=\"#md1f90519ab\" y=\"217.295315\"/>\n     <use style=\"fill:#1f77b4;stroke:#1f77b4;\" x=\"262.190005\" xlink:href=\"#md1f90519ab\" y=\"206.113827\"/>\n     <use style=\"fill:#1f77b4;stroke:#1f77b4;\" x=\"263.005332\" xlink:href=\"#md1f90519ab\" y=\"211.704571\"/>\n     <use style=\"fill:#1f77b4;stroke:#1f77b4;\" x=\"267.737621\" xlink:href=\"#md1f90519ab\" y=\"202.320108\"/>\n     <use style=\"fill:#1f77b4;stroke:#1f77b4;\" x=\"265.308628\" xlink:href=\"#md1f90519ab\" y=\"207.511513\"/>\n     <use style=\"fill:#1f77b4;stroke:#1f77b4;\" x=\"233.699293\" xlink:href=\"#md1f90519ab\" y=\"231.272175\"/>\n     <use style=\"fill:#1f77b4;stroke:#1f77b4;\" x=\"265.543288\" xlink:href=\"#md1f90519ab\" y=\"202.919117\"/>\n     <use style=\"fill:#1f77b4;stroke:#1f77b4;\" x=\"254.908408\" xlink:href=\"#md1f90519ab\" y=\"208.310191\"/>\n     <use style=\"fill:#1f77b4;stroke:#1f77b4;\" x=\"303.851506\" xlink:href=\"#md1f90519ab\" y=\"185.747546\"/>\n     <use style=\"fill:#1f77b4;stroke:#1f77b4;\" x=\"275.909386\" xlink:href=\"#md1f90519ab\" y=\"207.711183\"/>\n     <use style=\"fill:#1f77b4;stroke:#1f77b4;\" x=\"247.015947\" xlink:href=\"#md1f90519ab\" y=\"224.882753\"/>\n     <use style=\"fill:#1f77b4;stroke:#1f77b4;\" x=\"354.461994\" xlink:href=\"#md1f90519ab\" y=\"145.414323\"/>\n     <use style=\"fill:#1f77b4;stroke:#1f77b4;\" x=\"235.469845\" xlink:href=\"#md1f90519ab\" y=\"217.095646\"/>\n     <use style=\"fill:#1f77b4;stroke:#1f77b4;\" x=\"270.029327\" xlink:href=\"#md1f90519ab\" y=\"194.93234\"/>\n     <use style=\"fill:#1f77b4;stroke:#1f77b4;\" x=\"270.612259\" xlink:href=\"#md1f90519ab\" y=\"187.145232\"/>\n     <use style=\"fill:#1f77b4;stroke:#1f77b4;\" x=\"247.510475\" xlink:href=\"#md1f90519ab\" y=\"219.891018\"/>\n     <use style=\"fill:#1f77b4;stroke:#1f77b4;\" x=\"272.517931\" xlink:href=\"#md1f90519ab\" y=\"200.523084\"/>\n     <use style=\"fill:#1f77b4;stroke:#1f77b4;\" x=\"245.217696\" xlink:href=\"#md1f90519ab\" y=\"216.895976\"/>\n     <use style=\"fill:#1f77b4;stroke:#1f77b4;\" x=\"249.827672\" xlink:href=\"#md1f90519ab\" y=\"217.694654\"/>\n     <use style=\"fill:#1f77b4;stroke:#1f77b4;\" x=\"260.288741\" xlink:href=\"#md1f90519ab\" y=\"204.716142\"/>\n     <use style=\"fill:#1f77b4;stroke:#1f77b4;\" x=\"260.133099\" xlink:href=\"#md1f90519ab\" y=\"215.49829\"/>\n     <use style=\"fill:#1f77b4;stroke:#1f77b4;\" x=\"262.286873\" xlink:href=\"#md1f90519ab\" y=\"201.92077\"/>\n     <use style=\"fill:#1f77b4;stroke:#1f77b4;\" x=\"258.806242\" xlink:href=\"#md1f90519ab\" y=\"208.70953\"/>\n     <use style=\"fill:#1f77b4;stroke:#1f77b4;\" x=\"260.559362\" xlink:href=\"#md1f90519ab\" y=\"199.125398\"/>\n     <use style=\"fill:#1f77b4;stroke:#1f77b4;\" x=\"264.794473\" xlink:href=\"#md1f90519ab\" y=\"197.727712\"/>\n     <use style=\"fill:#1f77b4;stroke:#1f77b4;\" x=\"311.396746\" xlink:href=\"#md1f90519ab\" y=\"215.298621\"/>\n     <use style=\"fill:#1f77b4;stroke:#1f77b4;\" x=\"245.125353\" xlink:href=\"#md1f90519ab\" y=\"203.717794\"/>\n     <use style=\"fill:#1f77b4;stroke:#1f77b4;\" x=\"256.629651\" xlink:href=\"#md1f90519ab\" y=\"207.112175\"/>\n     <use style=\"fill:#1f77b4;stroke:#1f77b4;\" x=\"250.626654\" xlink:href=\"#md1f90519ab\" y=\"206.513166\"/>\n     <use style=\"fill:#1f77b4;stroke:#1f77b4;\" x=\"297.844846\" xlink:href=\"#md1f90519ab\" y=\"175.963745\"/>\n     <use style=\"fill:#1f77b4;stroke:#1f77b4;\" x=\"249.86442\" xlink:href=\"#md1f90519ab\" y=\"206.313497\"/>\n     <use style=\"fill:#1f77b4;stroke:#1f77b4;\" x=\"265.531271\" xlink:href=\"#md1f90519ab\" y=\"196.529695\"/>\n     <use style=\"fill:#1f77b4;stroke:#1f77b4;\" x=\"268.136865\" xlink:href=\"#md1f90519ab\" y=\"198.526389\"/>\n     <use style=\"fill:#1f77b4;stroke:#1f77b4;\" x=\"258.13944\" xlink:href=\"#md1f90519ab\" y=\"205.914158\"/>\n     <use style=\"fill:#1f77b4;stroke:#1f77b4;\" x=\"295.966189\" xlink:href=\"#md1f90519ab\" y=\"188.942257\"/>\n     <use style=\"fill:#1f77b4;stroke:#1f77b4;\" x=\"354.807645\" xlink:href=\"#md1f90519ab\" y=\"145.414323\"/>\n     <use style=\"fill:#1f77b4;stroke:#1f77b4;\" x=\"258.378929\" xlink:href=\"#md1f90519ab\" y=\"210.506555\"/>\n     <use style=\"fill:#1f77b4;stroke:#1f77b4;\" x=\"265.176272\" xlink:href=\"#md1f90519ab\" y=\"200.123745\"/>\n     <use style=\"fill:#1f77b4;stroke:#1f77b4;\" x=\"241.607431\" xlink:href=\"#md1f90519ab\" y=\"215.098951\"/>\n     <use style=\"fill:#1f77b4;stroke:#1f77b4;\" x=\"246.73629\" xlink:href=\"#md1f90519ab\" y=\"219.09234\"/>\n     <use style=\"fill:#1f77b4;stroke:#1f77b4;\" x=\"268.84332\" xlink:href=\"#md1f90519ab\" y=\"196.929034\"/>\n     <use style=\"fill:#1f77b4;stroke:#1f77b4;\" x=\"261.602805\" xlink:href=\"#md1f90519ab\" y=\"205.514819\"/>\n     <use style=\"fill:#1f77b4;stroke:#1f77b4;\" x=\"279.66314\" xlink:href=\"#md1f90519ab\" y=\"197.328373\"/>\n     <use style=\"fill:#1f77b4;stroke:#1f77b4;\" x=\"264.866507\" xlink:href=\"#md1f90519ab\" y=\"207.511513\"/>\n     <use style=\"fill:#1f77b4;stroke:#1f77b4;\" x=\"307.416549\" xlink:href=\"#md1f90519ab\" y=\"174.566059\"/>\n     <use style=\"fill:#1f77b4;stroke:#1f77b4;\" x=\"257.664083\" xlink:href=\"#md1f90519ab\" y=\"214.899282\"/>\n     <use style=\"fill:#1f77b4;stroke:#1f77b4;\" x=\"281.290307\" xlink:href=\"#md1f90519ab\" y=\"192.336637\"/>\n     <use style=\"fill:#1f77b4;stroke:#1f77b4;\" x=\"335.453697\" xlink:href=\"#md1f90519ab\" y=\"158.392836\"/>\n     <use style=\"fill:#1f77b4;stroke:#1f77b4;\" x=\"262.498316\" xlink:href=\"#md1f90519ab\" y=\"202.919117\"/>\n     <use style=\"fill:#1f77b4;stroke:#1f77b4;\" x=\"249.938517\" xlink:href=\"#md1f90519ab\" y=\"208.509861\"/>\n     <use style=\"fill:#1f77b4;stroke:#1f77b4;\" x=\"296.855934\" xlink:href=\"#md1f90519ab\" y=\"188.343249\"/>\n     <use style=\"fill:#1f77b4;stroke:#1f77b4;\" x=\"265.344212\" xlink:href=\"#md1f90519ab\" y=\"197.528042\"/>\n     <use style=\"fill:#1f77b4;stroke:#1f77b4;\" x=\"256.411175\" xlink:href=\"#md1f90519ab\" y=\"208.310191\"/>\n     <use style=\"fill:#1f77b4;stroke:#1f77b4;\" x=\"275.316367\" xlink:href=\"#md1f90519ab\" y=\"195.331679\"/>\n     <use style=\"fill:#1f77b4;stroke:#1f77b4;\" x=\"302.143043\" xlink:href=\"#md1f90519ab\" y=\"174.566059\"/>\n     <use style=\"fill:#1f77b4;stroke:#1f77b4;\" x=\"284.896545\" xlink:href=\"#md1f90519ab\" y=\"182.353166\"/>\n     <use style=\"fill:#1f77b4;stroke:#1f77b4;\" x=\"253.508277\" xlink:href=\"#md1f90519ab\" y=\"204.915811\"/>\n     <use style=\"fill:#1f77b4;stroke:#1f77b4;\" x=\"283.516149\" xlink:href=\"#md1f90519ab\" y=\"197.128704\"/>\n     <use style=\"fill:#1f77b4;stroke:#1f77b4;\" x=\"256.183002\" xlink:href=\"#md1f90519ab\" y=\"205.31515\"/>\n     <use style=\"fill:#1f77b4;stroke:#1f77b4;\" x=\"239.446473\" xlink:href=\"#md1f90519ab\" y=\"219.09234\"/>\n     <use style=\"fill:#1f77b4;stroke:#1f77b4;\" x=\"266.624302\" xlink:href=\"#md1f90519ab\" y=\"195.731018\"/>\n     <use style=\"fill:#1f77b4;stroke:#1f77b4;\" x=\"284.118428\" xlink:href=\"#md1f90519ab\" y=\"183.750852\"/>\n     <use style=\"fill:#1f77b4;stroke:#1f77b4;\" x=\"260.710999\" xlink:href=\"#md1f90519ab\" y=\"219.891018\"/>\n     <use style=\"fill:#1f77b4;stroke:#1f77b4;\" x=\"259.653933\" xlink:href=\"#md1f90519ab\" y=\"205.31515\"/>\n     <use style=\"fill:#1f77b4;stroke:#1f77b4;\" x=\"282.067545\" xlink:href=\"#md1f90519ab\" y=\"197.927381\"/>\n     <use style=\"fill:#1f77b4;stroke:#1f77b4;\" x=\"236.321835\" xlink:href=\"#md1f90519ab\" y=\"223.684737\"/>\n     <use style=\"fill:#1f77b4;stroke:#1f77b4;\" x=\"259.132023\" xlink:href=\"#md1f90519ab\" y=\"204.117133\"/>\n     <use style=\"fill:#1f77b4;stroke:#1f77b4;\" x=\"265.120191\" xlink:href=\"#md1f90519ab\" y=\"203.717794\"/>\n     <use style=\"fill:#1f77b4;stroke:#1f77b4;\" x=\"219.673842\" xlink:href=\"#md1f90519ab\" y=\"235.265563\"/>\n     <use style=\"fill:#1f77b4;stroke:#1f77b4;\" x=\"257.004916\" xlink:href=\"#md1f90519ab\" y=\"205.11548\"/>\n     <use style=\"fill:#1f77b4;stroke:#1f77b4;\" x=\"354.741241\" xlink:href=\"#md1f90519ab\" y=\"148.409365\"/>\n     <use style=\"fill:#1f77b4;stroke:#1f77b4;\" x=\"237.304395\" xlink:href=\"#md1f90519ab\" y=\"223.485067\"/>\n     <use style=\"fill:#1f77b4;stroke:#1f77b4;\" x=\"247.537456\" xlink:href=\"#md1f90519ab\" y=\"231.272175\"/>\n     <use style=\"fill:#1f77b4;stroke:#1f77b4;\" x=\"262.083696\" xlink:href=\"#md1f90519ab\" y=\"203.518125\"/>\n     <use style=\"fill:#1f77b4;stroke:#1f77b4;\" x=\"250.33473\" xlink:href=\"#md1f90519ab\" y=\"210.905894\"/>\n     <use style=\"fill:#1f77b4;stroke:#1f77b4;\" x=\"261.225805\" xlink:href=\"#md1f90519ab\" y=\"203.518125\"/>\n     <use style=\"fill:#1f77b4;stroke:#1f77b4;\" x=\"240.56366\" xlink:href=\"#md1f90519ab\" y=\"225.8811\"/>\n     <use style=\"fill:#1f77b4;stroke:#1f77b4;\" x=\"261.281142\" xlink:href=\"#md1f90519ab\" y=\"206.513166\"/>\n     <use style=\"fill:#1f77b4;stroke:#1f77b4;\" x=\"283.8355\" xlink:href=\"#md1f90519ab\" y=\"187.344902\"/>\n     <use style=\"fill:#1f77b4;stroke:#1f77b4;\" x=\"276.742917\" xlink:href=\"#md1f90519ab\" y=\"212.503249\"/>\n     <use style=\"fill:#1f77b4;stroke:#1f77b4;\" x=\"265.310733\" xlink:href=\"#md1f90519ab\" y=\"195.331679\"/>\n     <use style=\"fill:#1f77b4;stroke:#1f77b4;\" x=\"266.540482\" xlink:href=\"#md1f90519ab\" y=\"195.331679\"/>\n     <use style=\"fill:#1f77b4;stroke:#1f77b4;\" x=\"252.196147\" xlink:href=\"#md1f90519ab\" y=\"211.105563\"/>\n     <use style=\"fill:#1f77b4;stroke:#1f77b4;\" x=\"264.875216\" xlink:href=\"#md1f90519ab\" y=\"198.925728\"/>\n     <use style=\"fill:#1f77b4;stroke:#1f77b4;\" x=\"228.762811\" xlink:href=\"#md1f90519ab\" y=\"224.483414\"/>\n     <use style=\"fill:#1f77b4;stroke:#1f77b4;\" x=\"251.489059\" xlink:href=\"#md1f90519ab\" y=\"206.113827\"/>\n     <use style=\"fill:#1f77b4;stroke:#1f77b4;\" x=\"258.359284\" xlink:href=\"#md1f90519ab\" y=\"210.905894\"/>\n     <use style=\"fill:#1f77b4;stroke:#1f77b4;\" x=\"262.234749\" xlink:href=\"#md1f90519ab\" y=\"190.339943\"/>\n     <use style=\"fill:#1f77b4;stroke:#1f77b4;\" x=\"250.825765\" xlink:href=\"#md1f90519ab\" y=\"199.325067\"/>\n     <use style=\"fill:#1f77b4;stroke:#1f77b4;\" x=\"352.944097\" xlink:href=\"#md1f90519ab\" y=\"145.414323\"/>\n     <use style=\"fill:#1f77b4;stroke:#1f77b4;\" x=\"248.266898\" xlink:href=\"#md1f90519ab\" y=\"209.508208\"/>\n     <use style=\"fill:#1f77b4;stroke:#1f77b4;\" x=\"237.814186\" xlink:href=\"#md1f90519ab\" y=\"226.08077\"/>\n     <use style=\"fill:#1f77b4;stroke:#1f77b4;\" x=\"271.999377\" xlink:href=\"#md1f90519ab\" y=\"210.905894\"/>\n     <use style=\"fill:#1f77b4;stroke:#1f77b4;\" x=\"262.068292\" xlink:href=\"#md1f90519ab\" y=\"200.323414\"/>\n     <use style=\"fill:#1f77b4;stroke:#1f77b4;\" x=\"266.078373\" xlink:href=\"#md1f90519ab\" y=\"202.519778\"/>\n    </g>\n   </g>\n   <g id=\"matplotlib.axis_7\">\n    <g id=\"xtick_16\">\n     <g id=\"line2d_22\">\n      <g>\n       <use style=\"stroke:#000000;stroke-width:0.8;\" x=\"217.26693\" xlink:href=\"#mf1a946131d\" y=\"239.758125\"/>\n      </g>\n     </g>\n     <g id=\"text_15\">\n      <!-- 10 -->\n      <g transform=\"translate(210.90443 254.356562)scale(0.1 -0.1)\">\n       <use xlink:href=\"#DejaVuSans-49\"/>\n       <use x=\"63.623047\" xlink:href=\"#DejaVuSans-48\"/>\n      </g>\n     </g>\n    </g>\n    <g id=\"xtick_17\">\n     <g id=\"line2d_23\">\n      <g>\n       <use style=\"stroke:#000000;stroke-width:0.8;\" x=\"251.826629\" xlink:href=\"#mf1a946131d\" y=\"239.758125\"/>\n      </g>\n     </g>\n     <g id=\"text_16\">\n      <!-- 20 -->\n      <g transform=\"translate(245.464129 254.356562)scale(0.1 -0.1)\">\n       <use xlink:href=\"#DejaVuSans-50\"/>\n       <use x=\"63.623047\" xlink:href=\"#DejaVuSans-48\"/>\n      </g>\n     </g>\n    </g>\n    <g id=\"xtick_18\">\n     <g id=\"line2d_24\">\n      <g>\n       <use style=\"stroke:#000000;stroke-width:0.8;\" x=\"286.386328\" xlink:href=\"#mf1a946131d\" y=\"239.758125\"/>\n      </g>\n     </g>\n     <g id=\"text_17\">\n      <!-- 30 -->\n      <g transform=\"translate(280.023828 254.356562)scale(0.1 -0.1)\">\n       <use xlink:href=\"#DejaVuSans-51\"/>\n       <use x=\"63.623047\" xlink:href=\"#DejaVuSans-48\"/>\n      </g>\n     </g>\n    </g>\n    <g id=\"xtick_19\">\n     <g id=\"line2d_25\">\n      <g>\n       <use style=\"stroke:#000000;stroke-width:0.8;\" x=\"320.946027\" xlink:href=\"#mf1a946131d\" y=\"239.758125\"/>\n      </g>\n     </g>\n     <g id=\"text_18\">\n      <!-- 40 -->\n      <g transform=\"translate(314.583527 254.356562)scale(0.1 -0.1)\">\n       <use xlink:href=\"#DejaVuSans-52\"/>\n       <use x=\"63.623047\" xlink:href=\"#DejaVuSans-48\"/>\n      </g>\n     </g>\n    </g>\n    <g id=\"xtick_20\">\n     <g id=\"line2d_26\">\n      <g>\n       <use style=\"stroke:#000000;stroke-width:0.8;\" x=\"355.505726\" xlink:href=\"#mf1a946131d\" y=\"239.758125\"/>\n      </g>\n     </g>\n     <g id=\"text_19\">\n      <!-- 50 -->\n      <g transform=\"translate(349.143226 254.356562)scale(0.1 -0.1)\">\n       <use xlink:href=\"#DejaVuSans-53\"/>\n       <use x=\"63.623047\" xlink:href=\"#DejaVuSans-48\"/>\n      </g>\n     </g>\n    </g>\n   </g>\n   <g id=\"matplotlib.axis_8\">\n    <g id=\"ytick_7\">\n     <g id=\"line2d_27\">\n      <g>\n       <use style=\"stroke:#000000;stroke-width:0.8;\" x=\"209.543182\" xlink:href=\"#me70517e84f\" y=\"205.31515\"/>\n      </g>\n     </g>\n     <g id=\"text_20\">\n      <!-- 20 -->\n      <g transform=\"translate(189.818182 209.114369)scale(0.1 -0.1)\">\n       <use xlink:href=\"#DejaVuSans-50\"/>\n       <use x=\"63.623047\" xlink:href=\"#DejaVuSans-48\"/>\n      </g>\n     </g>\n    </g>\n    <g id=\"ytick_8\">\n     <g id=\"line2d_28\">\n      <g>\n       <use style=\"stroke:#000000;stroke-width:0.8;\" x=\"209.543182\" xlink:href=\"#me70517e84f\" y=\"165.381265\"/>\n      </g>\n     </g>\n     <g id=\"text_21\">\n      <!-- 40 -->\n      <g transform=\"translate(189.818182 169.180484)scale(0.1 -0.1)\">\n       <use xlink:href=\"#DejaVuSans-52\"/>\n       <use x=\"63.623047\" xlink:href=\"#DejaVuSans-48\"/>\n      </g>\n     </g>\n    </g>\n   </g>\n   <g id=\"patch_18\">\n    <path d=\"M 209.543182 239.758125 \nL 209.543182 140.921761 \n\" style=\"fill:none;stroke:#000000;stroke-linecap:square;stroke-linejoin:miter;stroke-width:0.8;\"/>\n   </g>\n   <g id=\"patch_19\">\n    <path d=\"M 361.725 239.758125 \nL 361.725 140.921761 \n\" style=\"fill:none;stroke:#000000;stroke-linecap:square;stroke-linejoin:miter;stroke-width:0.8;\"/>\n   </g>\n   <g id=\"patch_20\">\n    <path d=\"M 209.543182 239.758125 \nL 361.725 239.758125 \n\" style=\"fill:none;stroke:#000000;stroke-linecap:square;stroke-linejoin:miter;stroke-width:0.8;\"/>\n   </g>\n   <g id=\"patch_21\">\n    <path d=\"M 209.543182 140.921761 \nL 361.725 140.921761 \n\" style=\"fill:none;stroke:#000000;stroke-linecap:square;stroke-linejoin:miter;stroke-width:0.8;\"/>\n   </g>\n   <g id=\"text_22\">\n    <!-- gradient boosting -->\n    <g transform=\"translate(232.544403 134.921761)scale(0.12 -0.12)\">\n     <defs>\n      <path d=\"M 45.40625 46.390625 \nL 45.40625 75.984375 \nL 54.390625 75.984375 \nL 54.390625 0 \nL 45.40625 0 \nL 45.40625 8.203125 \nQ 42.578125 3.328125 38.25 0.953125 \nQ 33.9375 -1.421875 27.875 -1.421875 \nQ 17.96875 -1.421875 11.734375 6.484375 \nQ 5.515625 14.40625 5.515625 27.296875 \nQ 5.515625 40.1875 11.734375 48.09375 \nQ 17.96875 56 27.875 56 \nQ 33.9375 56 38.25 53.625 \nQ 42.578125 51.265625 45.40625 46.390625 \nz\nM 14.796875 27.296875 \nQ 14.796875 17.390625 18.875 11.75 \nQ 22.953125 6.109375 30.078125 6.109375 \nQ 37.203125 6.109375 41.296875 11.75 \nQ 45.40625 17.390625 45.40625 27.296875 \nQ 45.40625 37.203125 41.296875 42.84375 \nQ 37.203125 48.484375 30.078125 48.484375 \nQ 22.953125 48.484375 18.875 42.84375 \nQ 14.796875 37.203125 14.796875 27.296875 \nz\n\" id=\"DejaVuSans-100\"/>\n      <path d=\"M 18.3125 70.21875 \nL 18.3125 54.6875 \nL 36.8125 54.6875 \nL 36.8125 47.703125 \nL 18.3125 47.703125 \nL 18.3125 18.015625 \nQ 18.3125 11.328125 20.140625 9.421875 \nQ 21.96875 7.515625 27.59375 7.515625 \nL 36.8125 7.515625 \nL 36.8125 0 \nL 27.59375 0 \nQ 17.1875 0 13.234375 3.875 \nQ 9.28125 7.765625 9.28125 18.015625 \nL 9.28125 47.703125 \nL 2.6875 47.703125 \nL 2.6875 54.6875 \nL 9.28125 54.6875 \nL 9.28125 70.21875 \nz\n\" id=\"DejaVuSans-116\"/>\n      <path d=\"M 48.6875 27.296875 \nQ 48.6875 37.203125 44.609375 42.84375 \nQ 40.53125 48.484375 33.40625 48.484375 \nQ 26.265625 48.484375 22.1875 42.84375 \nQ 18.109375 37.203125 18.109375 27.296875 \nQ 18.109375 17.390625 22.1875 11.75 \nQ 26.265625 6.109375 33.40625 6.109375 \nQ 40.53125 6.109375 44.609375 11.75 \nQ 48.6875 17.390625 48.6875 27.296875 \nz\nM 18.109375 46.390625 \nQ 20.953125 51.265625 25.265625 53.625 \nQ 29.59375 56 35.59375 56 \nQ 45.5625 56 51.78125 48.09375 \nQ 58.015625 40.1875 58.015625 27.296875 \nQ 58.015625 14.40625 51.78125 6.484375 \nQ 45.5625 -1.421875 35.59375 -1.421875 \nQ 29.59375 -1.421875 25.265625 0.953125 \nQ 20.953125 3.328125 18.109375 8.203125 \nL 18.109375 0 \nL 9.078125 0 \nL 9.078125 75.984375 \nL 18.109375 75.984375 \nz\n\" id=\"DejaVuSans-98\"/>\n     </defs>\n     <use xlink:href=\"#DejaVuSans-103\"/>\n     <use x=\"63.476562\" xlink:href=\"#DejaVuSans-114\"/>\n     <use x=\"104.589844\" xlink:href=\"#DejaVuSans-97\"/>\n     <use x=\"165.869141\" xlink:href=\"#DejaVuSans-100\"/>\n     <use x=\"229.345703\" xlink:href=\"#DejaVuSans-105\"/>\n     <use x=\"257.128906\" xlink:href=\"#DejaVuSans-101\"/>\n     <use x=\"318.652344\" xlink:href=\"#DejaVuSans-110\"/>\n     <use x=\"382.03125\" xlink:href=\"#DejaVuSans-116\"/>\n     <use x=\"421.240234\" xlink:href=\"#DejaVuSans-32\"/>\n     <use x=\"453.027344\" xlink:href=\"#DejaVuSans-98\"/>\n     <use x=\"516.503906\" xlink:href=\"#DejaVuSans-111\"/>\n     <use x=\"577.685547\" xlink:href=\"#DejaVuSans-111\"/>\n     <use x=\"638.867188\" xlink:href=\"#DejaVuSans-115\"/>\n     <use x=\"690.966797\" xlink:href=\"#DejaVuSans-116\"/>\n     <use x=\"730.175781\" xlink:href=\"#DejaVuSans-105\"/>\n     <use x=\"757.958984\" xlink:href=\"#DejaVuSans-110\"/>\n     <use x=\"821.337891\" xlink:href=\"#DejaVuSans-103\"/>\n    </g>\n   </g>\n  </g>\n </g>\n <defs>\n  <clipPath id=\"p1373b322d9\">\n   <rect height=\"98.836364\" width=\"152.181818\" x=\"26.925\" y=\"22.318125\"/>\n  </clipPath>\n  <clipPath id=\"p2349b37f48\">\n   <rect height=\"98.836364\" width=\"152.181818\" x=\"209.543182\" y=\"22.318125\"/>\n  </clipPath>\n  <clipPath id=\"p4db55a0eba\">\n   <rect height=\"98.836364\" width=\"152.181818\" x=\"26.925\" y=\"140.921761\"/>\n  </clipPath>\n  <clipPath id=\"p8d47b0482f\">\n   <rect height=\"98.836364\" width=\"152.181818\" x=\"209.543182\" y=\"140.921761\"/>\n  </clipPath>\n </defs>\n</svg>\n",
      "image/png": "[encoded data removed]"
     },
     "metadata": {
      "needs_background": "light"
     }
    }
   ],
   "source": [
    "fig, axes = plt.subplots(2, 2, sharex=True)\n",
    "\n",
    "mse = [mse_avg, mse_lr, mse_neigh, mse_gb]\n",
    "mae = [mae_avg, mae_lr, mae_neigh, mae_gb]\n",
    "\n",
    "titles = ['average y', 'linear regression', 'KNN', 'gradient boosting']\n",
    "predictions = [y_avg, y_lr, y_neigh, y_gb]\n",
    "\n",
    "for counter, ax in enumerate(axes.flat):\n",
    "    ax.scatter(predictions[counter], y_test)\n",
    "    ax.set_title(titles[counter])\n",
    "\n",
    "plt.show()"
   ]
  },
  {
   "cell_type": "markdown",
   "metadata": {},
   "source": [
    "Next we view the MAE and MSE of the predicted values, consolidated using `pandas.DataFrame()`:"
   ]
  },
  {
   "cell_type": "code",
   "execution_count": 35,
   "metadata": {},
   "outputs": [
    {
     "output_type": "execute_result",
     "data": {
      "text/plain": [
       "     average y  linear regression        KNN  gradient boosting\n",
       "MAE   6.255844           3.343341   2.991176           4.418789\n",
       "MSE  75.045430          29.029078  26.613584          38.230784"
      ],
      "text/html": "<div>\n<style scoped>\n    .dataframe tbody tr th:only-of-type {\n        vertical-align: middle;\n    }\n\n    .dataframe tbody tr th {\n        vertical-align: top;\n    }\n\n    .dataframe thead th {\n        text-align: right;\n    }\n</style>\n<table border=\"1\" class=\"dataframe\">\n  <thead>\n    <tr style=\"text-align: right;\">\n      <th></th>\n      <th>average y</th>\n      <th>linear regression</th>\n      <th>KNN</th>\n      <th>gradient boosting</th>\n    </tr>\n  </thead>\n  <tbody>\n    <tr>\n      <th>MAE</th>\n      <td>6.255844</td>\n      <td>3.343341</td>\n      <td>2.991176</td>\n      <td>4.418789</td>\n    </tr>\n    <tr>\n      <th>MSE</th>\n      <td>75.045430</td>\n      <td>29.029078</td>\n      <td>26.613584</td>\n      <td>38.230784</td>\n    </tr>\n  </tbody>\n</table>\n</div>"
     },
     "metadata": {},
     "execution_count": 35
    }
   ],
   "source": [
    "errors = pd.DataFrame.from_dict({'MAE': [mae_avg, mae_lr, mae_neigh, mae_gb],\n",
    "                                 'MSE': [mse_avg, mse_lr, mse_neigh, mse_gb]},\n",
    "                                 orient='index', columns=titles)\n",
    "errors"
   ]
  },
  {
   "cell_type": "markdown",
   "metadata": {},
   "source": [
    "__Task:__  \n",
    "Compare the performances with your results using different parameters in KNN and Gradient Boosting.\n",
    "\n",
    "Did different hyperparameter settings in these algorithms have any effects on the accuracy of our predictions? \n",
    "\n",
    "Could you come up with a method to automatically choose the value of these hyperparameters?"
   ]
  },
  {
   "cell_type": "code",
   "execution_count": 36,
   "metadata": {},
   "outputs": [],
   "source": [
    "# [INSERT YOUR ANSWER HERE]\n",
    "# This question is refering to the model selection problem, which we will deal with in detail in further lectures.\n",
    "# A common way of handling model selection is via the use of Cross validation (which will be introduced in future lectures)\n",
    "# "
   ]
  },
  {
   "cell_type": "code",
   "execution_count": null,
   "metadata": {},
   "outputs": [],
   "source": []
  }
 ],
 "metadata": {
  "kernelspec": {
   "display_name": "Python 3",
   "language": "python",
   "name": "python3"
  },
  "language_info": {
   "codemirror_mode": {
    "name": "ipython",
    "version": 3
   },
   "file_extension": ".py",
   "mimetype": "text/x-python",
   "name": "python",
   "nbconvert_exporter": "python",
   "pygments_lexer": "ipython3",
   "version": "3.8.2-final"
  }
 },
 "nbformat": 4,
 "nbformat_minor": 1
}